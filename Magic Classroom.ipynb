{
 "cells": [
  {
   "cell_type": "markdown",
   "metadata": {},
   "source": [
    "# COGS 108 - Final Project "
   ]
  },
  {
   "cell_type": "markdown",
   "metadata": {},
   "source": [
    "# Overview"
   ]
  },
  {
   "cell_type": "markdown",
   "metadata": {},
   "source": [
    "*Fill in your overview here*"
   ]
  },
  {
   "cell_type": "markdown",
   "metadata": {},
   "source": [
    "# Group Members\n",
    "- Thao Hoang (A13057853)\n",
    "- Him Li (A14754959)\n",
    "- Zhenxuan Zhu (A14897008)\n",
    "- Rishabh Singhal()\n",
    "- Jiaxin Ge (A13409166)\n",
    "- Talal AlQadi (A13816618)\n"
   ]
  },
  {
   "cell_type": "markdown",
   "metadata": {},
   "source": [
    "\n"
   ]
  },
  {
   "cell_type": "markdown",
   "metadata": {},
   "source": [
    "# Research Question"
   ]
  },
  {
   "cell_type": "markdown",
   "metadata": {},
   "source": [
    "*Fill in your research question here*"
   ]
  },
  {
   "cell_type": "markdown",
   "metadata": {},
   "source": [
    "## Background and Introduction"
   ]
  },
  {
   "cell_type": "markdown",
   "metadata": {},
   "source": [
    "*Fill in your background and prior work here* \n",
    "\n",
    "References (include links):\n",
    "- 1)\n",
    "- 2)"
   ]
  },
  {
   "cell_type": "markdown",
   "metadata": {},
   "source": [
    "# Hypothesis\n"
   ]
  },
  {
   "cell_type": "markdown",
   "metadata": {},
   "source": [
    "*Fill in your hypotheses here*"
   ]
  },
  {
   "cell_type": "markdown",
   "metadata": {},
   "source": [
    "# Dataset(s)"
   ]
  },
  {
   "cell_type": "markdown",
   "metadata": {},
   "source": [
    "*Fill in your dataset information here*\n",
    "\n",
    "(Copy this information for each dataset)\n",
    "- Dataset Name:\n",
    "- Link to the dataset:\n",
    "- Number of observations:\n",
    "\n",
    "1-2 sentences describing each dataset. \n",
    "\n",
    "If you plan to use multiple datasets, add 1-2 sentences about how you plan to combine these datasets."
   ]
  },
  {
   "cell_type": "markdown",
   "metadata": {},
   "source": []
  },
  {
   "cell_type": "markdown",
   "metadata": {},
   "source": [
    "# Data Gathering, Wrangling, and Cleaning"
   ]
  },
  {
   "cell_type": "markdown",
   "metadata": {},
   "source": [
    "Our first step is gathering the data, by taking out the data we require. We initialize a parameters list to adjust filtration based on terms set in the list. We do this to gather all capes submission with cogs using the ClassExtractor function. Which just queries the rows of data out based on the set list, waiting to be transposed by the transpose function.\n",
    "The next step is to change the dataset, to be more accessible for analysis and to be visually pleasing."
   ]
  },
  {
   "cell_type": "code",
   "execution_count": 133,
   "metadata": {},
   "outputs": [],
   "source": [
    "# Setup\n",
    "import pandas as pd\n",
    "import numpy as np\n",
    "import math\n",
    "\n",
    "\n",
    "# Visualizations\n",
    "from pandas.plotting import scatter_matrix\n",
    "import matplotlib.pyplot as plt\n",
    "import patsy\n",
    "import statsmodels.api as sm\n",
    "import scipy.stats as stats\n",
    "from scipy.stats import ttest_ind, chisquare, normaltest\n",
    "import seaborn as sns\n"
   ]
  },
  {
   "cell_type": "markdown",
   "metadata": {},
   "source": [
    "First, we look at the initial data. However, we realized that each cape_ID question is given its own row, making the data repetetive and clunky."
   ]
  },
  {
   "cell_type": "code",
   "execution_count": 134,
   "metadata": {},
   "outputs": [
    {
     "data": {
      "text/html": [
       "<div>\n",
       "<style scoped>\n",
       "    .dataframe tbody tr th:only-of-type {\n",
       "        vertical-align: middle;\n",
       "    }\n",
       "\n",
       "    .dataframe tbody tr th {\n",
       "        vertical-align: top;\n",
       "    }\n",
       "\n",
       "    .dataframe thead th {\n",
       "        text-align: right;\n",
       "    }\n",
       "</style>\n",
       "<table border=\"1\" class=\"dataframe\">\n",
       "  <thead>\n",
       "    <tr style=\"text-align: right;\">\n",
       "      <th></th>\n",
       "      <th>LOCATION</th>\n",
       "      <th>ROOM</th>\n",
       "      <th>QUARTER_INDEX</th>\n",
       "      <th>QUARTER</th>\n",
       "      <th>QUARTER_2</th>\n",
       "      <th>COURSE_ID</th>\n",
       "      <th>COURSE_NUM</th>\n",
       "      <th>SECTION</th>\n",
       "      <th>INSTRUCTOR_LAST</th>\n",
       "      <th>INSTRUCTOR_FIRST</th>\n",
       "      <th>CAPE_ID</th>\n",
       "      <th>QUESTION</th>\n",
       "      <th>SECTION_SIZE</th>\n",
       "      <th>RESPONSE_SIZE</th>\n",
       "      <th>RATING</th>\n",
       "    </tr>\n",
       "  </thead>\n",
       "  <tbody>\n",
       "    <tr>\n",
       "      <th>0</th>\n",
       "      <td>CENTR</td>\n",
       "      <td>222</td>\n",
       "      <td>9</td>\n",
       "      <td>FA12</td>\n",
       "      <td>FA12</td>\n",
       "      <td>ANAR</td>\n",
       "      <td>153</td>\n",
       "      <td>767325</td>\n",
       "      <td>Braswell</td>\n",
       "      <td>Geoffrey E.</td>\n",
       "      <td>5</td>\n",
       "      <td>Instructor displays a proficient command of th...</td>\n",
       "      <td>26</td>\n",
       "      <td>20</td>\n",
       "      <td>4.90</td>\n",
       "    </tr>\n",
       "    <tr>\n",
       "      <th>1</th>\n",
       "      <td>CENTR</td>\n",
       "      <td>222</td>\n",
       "      <td>9</td>\n",
       "      <td>FA12</td>\n",
       "      <td>FA12</td>\n",
       "      <td>ANAR</td>\n",
       "      <td>153</td>\n",
       "      <td>767325</td>\n",
       "      <td>Braswell</td>\n",
       "      <td>Geoffrey E.</td>\n",
       "      <td>6</td>\n",
       "      <td>Instructor is well prepared for classes.</td>\n",
       "      <td>26</td>\n",
       "      <td>20</td>\n",
       "      <td>4.75</td>\n",
       "    </tr>\n",
       "    <tr>\n",
       "      <th>2</th>\n",
       "      <td>CENTR</td>\n",
       "      <td>222</td>\n",
       "      <td>9</td>\n",
       "      <td>FA12</td>\n",
       "      <td>FA12</td>\n",
       "      <td>ANAR</td>\n",
       "      <td>153</td>\n",
       "      <td>767325</td>\n",
       "      <td>Braswell</td>\n",
       "      <td>Geoffrey E.</td>\n",
       "      <td>7</td>\n",
       "      <td>Instructor's speech is clear and audible.</td>\n",
       "      <td>26</td>\n",
       "      <td>20</td>\n",
       "      <td>4.85</td>\n",
       "    </tr>\n",
       "    <tr>\n",
       "      <th>3</th>\n",
       "      <td>CENTR</td>\n",
       "      <td>222</td>\n",
       "      <td>9</td>\n",
       "      <td>FA12</td>\n",
       "      <td>FA12</td>\n",
       "      <td>ANAR</td>\n",
       "      <td>153</td>\n",
       "      <td>767325</td>\n",
       "      <td>Braswell</td>\n",
       "      <td>Geoffrey E.</td>\n",
       "      <td>8</td>\n",
       "      <td>Instructor explains the [coursetype] material ...</td>\n",
       "      <td>26</td>\n",
       "      <td>20</td>\n",
       "      <td>4.70</td>\n",
       "    </tr>\n",
       "    <tr>\n",
       "      <th>4</th>\n",
       "      <td>CENTR</td>\n",
       "      <td>222</td>\n",
       "      <td>9</td>\n",
       "      <td>FA12</td>\n",
       "      <td>FA12</td>\n",
       "      <td>ANAR</td>\n",
       "      <td>153</td>\n",
       "      <td>767325</td>\n",
       "      <td>Braswell</td>\n",
       "      <td>Geoffrey E.</td>\n",
       "      <td>9</td>\n",
       "      <td>Lectures hold your attention.</td>\n",
       "      <td>26</td>\n",
       "      <td>20</td>\n",
       "      <td>4.50</td>\n",
       "    </tr>\n",
       "    <tr>\n",
       "      <th>5</th>\n",
       "      <td>CENTR</td>\n",
       "      <td>222</td>\n",
       "      <td>9</td>\n",
       "      <td>FA12</td>\n",
       "      <td>FA12</td>\n",
       "      <td>ANAR</td>\n",
       "      <td>153</td>\n",
       "      <td>767325</td>\n",
       "      <td>Braswell</td>\n",
       "      <td>Geoffrey E.</td>\n",
       "      <td>10</td>\n",
       "      <td>Instructor’s lecture style facilitates note-ta...</td>\n",
       "      <td>26</td>\n",
       "      <td>20</td>\n",
       "      <td>4.20</td>\n",
       "    </tr>\n",
       "    <tr>\n",
       "      <th>6</th>\n",
       "      <td>CENTR</td>\n",
       "      <td>222</td>\n",
       "      <td>9</td>\n",
       "      <td>FA12</td>\n",
       "      <td>FA12</td>\n",
       "      <td>ANAR</td>\n",
       "      <td>153</td>\n",
       "      <td>767325</td>\n",
       "      <td>Braswell</td>\n",
       "      <td>Geoffrey E.</td>\n",
       "      <td>11</td>\n",
       "      <td>Instructor shows concern for students' learning.</td>\n",
       "      <td>26</td>\n",
       "      <td>20</td>\n",
       "      <td>4.45</td>\n",
       "    </tr>\n",
       "    <tr>\n",
       "      <th>7</th>\n",
       "      <td>CENTR</td>\n",
       "      <td>222</td>\n",
       "      <td>9</td>\n",
       "      <td>FA12</td>\n",
       "      <td>FA12</td>\n",
       "      <td>ANAR</td>\n",
       "      <td>153</td>\n",
       "      <td>767325</td>\n",
       "      <td>Braswell</td>\n",
       "      <td>Geoffrey E.</td>\n",
       "      <td>12</td>\n",
       "      <td>Instructor promotes appropriate questions/disc...</td>\n",
       "      <td>26</td>\n",
       "      <td>20</td>\n",
       "      <td>4.15</td>\n",
       "    </tr>\n",
       "    <tr>\n",
       "      <th>8</th>\n",
       "      <td>CENTR</td>\n",
       "      <td>222</td>\n",
       "      <td>9</td>\n",
       "      <td>FA12</td>\n",
       "      <td>FA12</td>\n",
       "      <td>ANAR</td>\n",
       "      <td>153</td>\n",
       "      <td>767325</td>\n",
       "      <td>Braswell</td>\n",
       "      <td>Geoffrey E.</td>\n",
       "      <td>13</td>\n",
       "      <td>Instructor is accessible outside of class.</td>\n",
       "      <td>26</td>\n",
       "      <td>20</td>\n",
       "      <td>4.00</td>\n",
       "    </tr>\n",
       "    <tr>\n",
       "      <th>9</th>\n",
       "      <td>CENTR</td>\n",
       "      <td>222</td>\n",
       "      <td>9</td>\n",
       "      <td>FA12</td>\n",
       "      <td>FA12</td>\n",
       "      <td>ANAR</td>\n",
       "      <td>153</td>\n",
       "      <td>767325</td>\n",
       "      <td>Braswell</td>\n",
       "      <td>Geoffrey E.</td>\n",
       "      <td>14</td>\n",
       "      <td>Instructor starts and finishes class on time.</td>\n",
       "      <td>26</td>\n",
       "      <td>20</td>\n",
       "      <td>4.55</td>\n",
       "    </tr>\n",
       "  </tbody>\n",
       "</table>\n",
       "</div>"
      ],
      "text/plain": [
       "  LOCATION ROOM  QUARTER_INDEX QUARTER QUARTER_2 COURSE_ID COURSE_NUM  \\\n",
       "0    CENTR  222              9    FA12      FA12      ANAR        153   \n",
       "1    CENTR  222              9    FA12      FA12      ANAR        153   \n",
       "2    CENTR  222              9    FA12      FA12      ANAR        153   \n",
       "3    CENTR  222              9    FA12      FA12      ANAR        153   \n",
       "4    CENTR  222              9    FA12      FA12      ANAR        153   \n",
       "5    CENTR  222              9    FA12      FA12      ANAR        153   \n",
       "6    CENTR  222              9    FA12      FA12      ANAR        153   \n",
       "7    CENTR  222              9    FA12      FA12      ANAR        153   \n",
       "8    CENTR  222              9    FA12      FA12      ANAR        153   \n",
       "9    CENTR  222              9    FA12      FA12      ANAR        153   \n",
       "\n",
       "   SECTION INSTRUCTOR_LAST            INSTRUCTOR_FIRST  CAPE_ID  \\\n",
       "0   767325        Braswell   Geoffrey E.                      5   \n",
       "1   767325        Braswell   Geoffrey E.                      6   \n",
       "2   767325        Braswell   Geoffrey E.                      7   \n",
       "3   767325        Braswell   Geoffrey E.                      8   \n",
       "4   767325        Braswell   Geoffrey E.                      9   \n",
       "5   767325        Braswell   Geoffrey E.                     10   \n",
       "6   767325        Braswell   Geoffrey E.                     11   \n",
       "7   767325        Braswell   Geoffrey E.                     12   \n",
       "8   767325        Braswell   Geoffrey E.                     13   \n",
       "9   767325        Braswell   Geoffrey E.                     14   \n",
       "\n",
       "                                            QUESTION  SECTION_SIZE  \\\n",
       "0  Instructor displays a proficient command of th...            26   \n",
       "1           Instructor is well prepared for classes.            26   \n",
       "2          Instructor's speech is clear and audible.            26   \n",
       "3  Instructor explains the [coursetype] material ...            26   \n",
       "4                      Lectures hold your attention.            26   \n",
       "5  Instructor’s lecture style facilitates note-ta...            26   \n",
       "6   Instructor shows concern for students' learning.            26   \n",
       "7  Instructor promotes appropriate questions/disc...            26   \n",
       "8         Instructor is accessible outside of class.            26   \n",
       "9      Instructor starts and finishes class on time.            26   \n",
       "\n",
       "   RESPONSE_SIZE  RATING  \n",
       "0             20    4.90  \n",
       "1             20    4.75  \n",
       "2             20    4.85  \n",
       "3             20    4.70  \n",
       "4             20    4.50  \n",
       "5             20    4.20  \n",
       "6             20    4.45  \n",
       "7             20    4.15  \n",
       "8             20    4.00  \n",
       "9             20    4.55  "
      ]
     },
     "execution_count": 134,
     "metadata": {},
     "output_type": "execute_result"
    }
   ],
   "source": [
    "df_cogs = pd.read_csv('CAPES.csv')\n",
    "df_cogs.head(10)"
   ]
  },
  {
   "cell_type": "code",
   "execution_count": 135,
   "metadata": {},
   "outputs": [],
   "source": [
    "#Parameter Lists\n",
    "#Set the variable as None to ignore it when searching\n",
    "#Change the value here and run all the cells to get an output\n",
    "LOCATION = None\n",
    "ROOM = None\n",
    "QUARTER_INDEX = None          # A number, refer to the file or dataframe\n",
    "QUARTER = None                # e.g. \"FA13\"/\"WI19\"/\"SP15\"\n",
    "COURSE_ID = \"COGS\"             # e.g. \"COGS\", \"BILD\"\n",
    "COURSE_NUM = [\"1\",\"3\",\"9\",\"11\",\"14A\",\"14B\",\"17\",\"100\"]  # Must be a list of string (double quoted or single quoted)! e.g. [\"100\", \"20A\", \"120A\"]\n",
    "SECTION = None               # Must be a string! e.g \"767325\"\n",
    "INSTRUCTOR_FIRST = None    # instructor's first name\n",
    "INSTRUCTOR_LAST = None     # instructor's last name\n",
    "LOWEST_SIZE = None            # Include only sections that have student number >= this variable\n",
    "LOWEST_RESPONSE = None        # Include only Capes Questions that have number of response >= this variable\n",
    "CAPES = [5,6,7,8,9,10,17,27,26]        # Must be a list of integer! Include only Capes question with an ID that is in the list. From 5 to 27, plus 51\n",
    "FILENAME = \"COGS_CAPES.csv\"    # name of output file"
   ]
  },
  {
   "cell_type": "code",
   "execution_count": 136,
   "metadata": {},
   "outputs": [],
   "source": [
    "# Read CSV\n",
    "dtypes = {'LOCATION':str, 'ROOM':str, 'QUARTER_INDEX':int, 'QUATER':int, 'COURSE_ID':str, 'COURSE_NUM':str, \n",
    "          'SECTION':str, 'INSTRUCTOR_LAST':str, 'INSTRUCTOR_FIRST': str, 'CAPE_ID':int, 'QUESTION':str, \n",
    "          'SECTION_SIZE':int, 'RESPONSE_SIZE':int, \"RATING\":float}\n",
    "df = pd.read_csv(\"CAPES.csv\", usecols = [\"LOCATION\", \"ROOM\", \"QUARTER_INDEX\", \"QUARTER\", \n",
    "                                         \"COURSE_ID\", \"COURSE_NUM\", \"SECTION\", \"INSTRUCTOR_LAST\", \n",
    "                                         \"INSTRUCTOR_FIRST\", \"CAPE_ID\", \"QUESTION\", \n",
    "                                         \"SECTION_SIZE\", \"RESPONSE_SIZE\", \"RATING\"],\n",
    "                 dtype = dtypes)\n",
    "\n",
    "# clean out empty spaces in cells\n",
    "df[\"INSTRUCTOR_FIRST\"] = df[\"INSTRUCTOR_FIRST\"].str.strip()\n",
    "df[\"INSTRUCTOR_LAST\"] = df[\"INSTRUCTOR_LAST\"].str.strip()\n",
    "\n",
    "def ClassExtractor(LOCATION, ROOM, QUARTER, COURSE_ID, COURSE_NUM, SECTION, INSTRUCTOR_LAST, \n",
    "                   INSTRUCTOR_FIRST, LOWEST_SIZE, LOWEST_RESPONSE, CAPES):\n",
    "    result = df\n",
    "    \n",
    "    if LOCATION is not None:\n",
    "        result = result[result[\"LOCATION\"] == LOCATION]\n",
    "    \n",
    "    if ROOM is not None:\n",
    "        reulst = result[result[\"ROOM\"] == ROOM]\n",
    "        \n",
    "    if QUARTER is not None:\n",
    "        result = result[result[\"QUATER\"] == QUARTER]\n",
    "    \n",
    "    if COURSE_ID is not None:\n",
    "        result = result[result[\"COURSE_ID\"] == COURSE_ID]\n",
    "        \n",
    "    if COURSE_NUM is not None:\n",
    "        result = result[result[\"COURSE_NUM\"].isin(COURSE_NUM)]\n",
    "        \n",
    "    if SECTION is not None:\n",
    "        result = result[result[\"SECTION\"] == SECTION]\n",
    "    \n",
    "    if INSTRUCTOR_LAST is not None:\n",
    "        result = result[result[\"INSTRUCTOR_LAST\"] == INSTRUCTOR_LAST]\n",
    "        \n",
    "    if INSTRUCTOR_FIRST is not None:\n",
    "        result = result[result[\"INSTRUCTOR_FIRST\"] == INSTRUCTOR_FIRST]\n",
    "        \n",
    "    if LOWEST_SIZE is not None:\n",
    "        result = result[result[\"SECTION_SIZE\"] >= LOWEST_SIZE]\n",
    "        \n",
    "    if LOWEST_RESPONSE is not None:\n",
    "        result = result[result[\"RESPONSE_SIZE\"] >= LOWEST_RESPONSE]\n",
    "        \n",
    "    if isinstance(CAPES, list):\n",
    "        result = result[result[\"CAPE_ID\"].isin(CAPES)]\n",
    "    \n",
    "    \n",
    "    return result\n",
    "\n",
    "def AlltimeAvg(INSTRUCTOR_FIRST, INSTRUCTOR_LAST, CAPES):\n",
    "    newdf = (df.loc[df[\"INSTRUCTOR_LAST\"] == INSTRUCTOR_LAST]).loc[df[\"INSTRUCTOR_FIRST\"] == INSTRUCTOR_FIRST]\n",
    "    dic = {}\n",
    "\n",
    "    for i in CAPES:\n",
    "        temp = newdf.loc[newdf[\"CAPE_ID\"] == i]\n",
    "        dic[i] = temp[\"RATING\"].mean()\n",
    "\n",
    "    print(\"All Time Average Rating for\", INSTRUCTOR_LAST + \",\", INSTRUCTOR_FIRST, \"in (CAPE_ID, AVG)\")\n",
    "    for key, value in dic.items():\n",
    "        print(key, value)\n"
   ]
  },
  {
   "cell_type": "markdown",
   "metadata": {},
   "source": [
    "After extracting the data we require, we now must convert the dataset into a nicely formatted dataframe with with each section having its own average ratings. The initial dataset contains about 21 rows per CAPES submission, but after some filtration, we leveled it down to 9 questions that we are interested in through the parameters list. Still, this means 9 rows for each Capes submission. With the following functions, each rating is converted into a column. Furthermore, each CAPES_ID question is renamed in reference to what the question is asking."
   ]
  },
  {
   "cell_type": "code",
   "execution_count": 137,
   "metadata": {},
   "outputs": [],
   "source": [
    "# This cell essentially transposes the ratings into column values\n",
    "# to get rid of duplicate values\n",
    "aggregations = {\n",
    "    'RATING':'mean',\n",
    "    'SECTION_SIZE':'sum',\n",
    "    'RESPONSE_SIZE':'sum'\n",
    "}\n",
    "def transpose(output):\n",
    "    hall = output\n",
    "    data = hall.groupby(['CAPE_ID','SECTION']).agg(aggregations).reset_index()\n",
    "\n",
    "    know_rating = pd.Series(data[data.CAPE_ID == 5].RATING)\n",
    "    prep_rating = pd.Series(data[data.CAPE_ID == 6].RATING)\n",
    "    audible_rating = pd.Series(data[data.CAPE_ID == 7].RATING)\n",
    "    expl_rating = pd.Series(data[data.CAPE_ID == 8].RATING)\n",
    "    attent_rating = pd.Series(data[data.CAPE_ID == 9].RATING)\n",
    "    note_rating = pd.Series(data[data.CAPE_ID == 10].RATING)\n",
    "    stimu_rating = pd.Series(data[data.CAPE_ID == 17].RATING)\n",
    "    rec_course_rating = pd.Series(data[data.CAPE_ID == 26].RATING)\n",
    "    rec_professor_rating = pd.Series(data[data.CAPE_ID == 27].RATING)\n",
    "    df = hall\n",
    "    df = df.drop_duplicates(subset=['SECTION'], keep='first')\n",
    "\n",
    "    df.loc[:,'know_rating'] = list(know_rating.values)\n",
    "    df.loc[:,'prep_rating'] = prep_rating.values\n",
    "    df.loc[:,'audible_rating'] = audible_rating.values\n",
    "    df.loc[:,'expl_rating'] = expl_rating.values\n",
    "    df.loc[:,'attent_rating'] = attent_rating.values\n",
    "    df.loc[:,'note_rating'] = note_rating.values\n",
    "    df.loc[:,'stimu_rating'] = stimu_rating.values\n",
    "    df.loc[:,'rec_course_rating'] = rec_course_rating.values\n",
    "    df.loc[:,'rec_professor_rating'] = rec_professor_rating.values\n",
    "    df = df.drop(columns=['QUESTION','CAPE_ID'])\n",
    "\n",
    "    \n",
    "    return df"
   ]
  },
  {
   "cell_type": "code",
   "execution_count": 138,
   "metadata": {},
   "outputs": [],
   "source": [
    "# Calling Function and Write Data\n",
    "original = ClassExtractor(LOCATION, ROOM, QUARTER, COURSE_ID, COURSE_NUM, SECTION, INSTRUCTOR_LAST, \n",
    "                   INSTRUCTOR_FIRST, LOWEST_SIZE, LOWEST_RESPONSE, CAPES)\n",
    "output = transpose(original)\n",
    "filename = FILENAME or \"CAPE_\" + (INSTRUCTOR_FIRST or \"\" or COURSE_ID) + \" \" + (INSTRUCTOR_LAST or \"\") + \".csv\"\n",
    "filename = \"DATA/\" + filename\n",
    "\n",
    "if not output.empty:\n",
    "    output.to_csv(filename)\n"
   ]
  },
  {
   "cell_type": "code",
   "execution_count": 139,
   "metadata": {},
   "outputs": [
    {
     "data": {
      "text/html": [
       "<div>\n",
       "<style scoped>\n",
       "    .dataframe tbody tr th:only-of-type {\n",
       "        vertical-align: middle;\n",
       "    }\n",
       "\n",
       "    .dataframe tbody tr th {\n",
       "        vertical-align: top;\n",
       "    }\n",
       "\n",
       "    .dataframe thead th {\n",
       "        text-align: right;\n",
       "    }\n",
       "</style>\n",
       "<table border=\"1\" class=\"dataframe\">\n",
       "  <thead>\n",
       "    <tr style=\"text-align: right;\">\n",
       "      <th></th>\n",
       "      <th>Unnamed: 0</th>\n",
       "      <th>LOCATION</th>\n",
       "      <th>ROOM</th>\n",
       "      <th>QUARTER_INDEX</th>\n",
       "      <th>QUARTER</th>\n",
       "      <th>COURSE_ID</th>\n",
       "      <th>COURSE_NUM</th>\n",
       "      <th>SECTION</th>\n",
       "      <th>INSTRUCTOR_LAST</th>\n",
       "      <th>INSTRUCTOR_FIRST</th>\n",
       "      <th>...</th>\n",
       "      <th>RATING</th>\n",
       "      <th>know_rating</th>\n",
       "      <th>prep_rating</th>\n",
       "      <th>audible_rating</th>\n",
       "      <th>expl_rating</th>\n",
       "      <th>attent_rating</th>\n",
       "      <th>note_rating</th>\n",
       "      <th>stimu_rating</th>\n",
       "      <th>rec_course_rating</th>\n",
       "      <th>rec_professor_rating</th>\n",
       "    </tr>\n",
       "  </thead>\n",
       "  <tbody>\n",
       "    <tr>\n",
       "      <th>0</th>\n",
       "      <td>6005</td>\n",
       "      <td>PETER</td>\n",
       "      <td>110</td>\n",
       "      <td>9</td>\n",
       "      <td>FA12</td>\n",
       "      <td>COGS</td>\n",
       "      <td>1</td>\n",
       "      <td>751912</td>\n",
       "      <td>Creel</td>\n",
       "      <td>Sarah</td>\n",
       "      <td>...</td>\n",
       "      <td>4.263158</td>\n",
       "      <td>4.391111</td>\n",
       "      <td>4.277778</td>\n",
       "      <td>4.496296</td>\n",
       "      <td>3.889630</td>\n",
       "      <td>3.715556</td>\n",
       "      <td>3.719259</td>\n",
       "      <td>3.838519</td>\n",
       "      <td>0.829630</td>\n",
       "      <td>0.869630</td>\n",
       "    </tr>\n",
       "    <tr>\n",
       "      <th>1</th>\n",
       "      <td>6530</td>\n",
       "      <td>CENTR</td>\n",
       "      <td>115</td>\n",
       "      <td>9</td>\n",
       "      <td>FA12</td>\n",
       "      <td>COGS</td>\n",
       "      <td>11</td>\n",
       "      <td>751622</td>\n",
       "      <td>Boyle</td>\n",
       "      <td>Mary E. T.</td>\n",
       "      <td>...</td>\n",
       "      <td>4.741935</td>\n",
       "      <td>4.714574</td>\n",
       "      <td>4.719534</td>\n",
       "      <td>4.571525</td>\n",
       "      <td>4.392761</td>\n",
       "      <td>4.282002</td>\n",
       "      <td>3.491519</td>\n",
       "      <td>4.624776</td>\n",
       "      <td>0.921627</td>\n",
       "      <td>0.937500</td>\n",
       "    </tr>\n",
       "    <tr>\n",
       "      <th>2</th>\n",
       "      <td>6684</td>\n",
       "      <td>SOLIS</td>\n",
       "      <td>104</td>\n",
       "      <td>9</td>\n",
       "      <td>FA12</td>\n",
       "      <td>COGS</td>\n",
       "      <td>17</td>\n",
       "      <td>751631</td>\n",
       "      <td>Johnson</td>\n",
       "      <td>Christine M.</td>\n",
       "      <td>...</td>\n",
       "      <td>4.682927</td>\n",
       "      <td>4.647019</td>\n",
       "      <td>4.542683</td>\n",
       "      <td>4.490515</td>\n",
       "      <td>4.466125</td>\n",
       "      <td>3.803523</td>\n",
       "      <td>3.907353</td>\n",
       "      <td>4.504065</td>\n",
       "      <td>0.923442</td>\n",
       "      <td>0.920054</td>\n",
       "    </tr>\n",
       "    <tr>\n",
       "      <th>3</th>\n",
       "      <td>6747</td>\n",
       "      <td>CENTR</td>\n",
       "      <td>115</td>\n",
       "      <td>9</td>\n",
       "      <td>FA12</td>\n",
       "      <td>COGS</td>\n",
       "      <td>3</td>\n",
       "      <td>751615</td>\n",
       "      <td>Boyle</td>\n",
       "      <td>Mary E. T.</td>\n",
       "      <td>...</td>\n",
       "      <td>4.333333</td>\n",
       "      <td>4.151964</td>\n",
       "      <td>4.143793</td>\n",
       "      <td>4.293289</td>\n",
       "      <td>4.156604</td>\n",
       "      <td>3.785060</td>\n",
       "      <td>3.964009</td>\n",
       "      <td>4.294407</td>\n",
       "      <td>0.892550</td>\n",
       "      <td>0.943732</td>\n",
       "    </tr>\n",
       "    <tr>\n",
       "      <th>4</th>\n",
       "      <td>40567</td>\n",
       "      <td>PCYNH</td>\n",
       "      <td>121</td>\n",
       "      <td>11</td>\n",
       "      <td>FA13</td>\n",
       "      <td>COGS</td>\n",
       "      <td>1</td>\n",
       "      <td>783453</td>\n",
       "      <td>Boyle</td>\n",
       "      <td>Mary E. T.</td>\n",
       "      <td>...</td>\n",
       "      <td>4.250000</td>\n",
       "      <td>3.956792</td>\n",
       "      <td>3.952378</td>\n",
       "      <td>3.976577</td>\n",
       "      <td>3.720754</td>\n",
       "      <td>3.494954</td>\n",
       "      <td>3.653218</td>\n",
       "      <td>4.007390</td>\n",
       "      <td>0.835799</td>\n",
       "      <td>0.884138</td>\n",
       "    </tr>\n",
       "  </tbody>\n",
       "</table>\n",
       "<p>5 rows × 22 columns</p>\n",
       "</div>"
      ],
      "text/plain": [
       "   Unnamed: 0 LOCATION ROOM  QUARTER_INDEX QUARTER COURSE_ID COURSE_NUM  \\\n",
       "0        6005    PETER  110              9    FA12      COGS          1   \n",
       "1        6530    CENTR  115              9    FA12      COGS         11   \n",
       "2        6684    SOLIS  104              9    FA12      COGS         17   \n",
       "3        6747    CENTR  115              9    FA12      COGS          3   \n",
       "4       40567    PCYNH  121             11    FA13      COGS          1   \n",
       "\n",
       "   SECTION INSTRUCTOR_LAST INSTRUCTOR_FIRST  ...    RATING  know_rating  \\\n",
       "0   751912           Creel            Sarah  ...  4.263158     4.391111   \n",
       "1   751622           Boyle       Mary E. T.  ...  4.741935     4.714574   \n",
       "2   751631         Johnson     Christine M.  ...  4.682927     4.647019   \n",
       "3   751615           Boyle       Mary E. T.  ...  4.333333     4.151964   \n",
       "4   783453           Boyle       Mary E. T.  ...  4.250000     3.956792   \n",
       "\n",
       "   prep_rating  audible_rating  expl_rating  attent_rating  note_rating  \\\n",
       "0     4.277778        4.496296     3.889630       3.715556     3.719259   \n",
       "1     4.719534        4.571525     4.392761       4.282002     3.491519   \n",
       "2     4.542683        4.490515     4.466125       3.803523     3.907353   \n",
       "3     4.143793        4.293289     4.156604       3.785060     3.964009   \n",
       "4     3.952378        3.976577     3.720754       3.494954     3.653218   \n",
       "\n",
       "   stimu_rating  rec_course_rating  rec_professor_rating  \n",
       "0      3.838519           0.829630              0.869630  \n",
       "1      4.624776           0.921627              0.937500  \n",
       "2      4.504065           0.923442              0.920054  \n",
       "3      4.294407           0.892550              0.943732  \n",
       "4      4.007390           0.835799              0.884138  \n",
       "\n",
       "[5 rows x 22 columns]"
      ]
     },
     "execution_count": 139,
     "metadata": {},
     "output_type": "execute_result"
    }
   ],
   "source": [
    "df_cogs = pd.read_csv(\"COGS_CAPES.csv\")\n",
    "df_cogs.head(5)"
   ]
  },
  {
   "cell_type": "markdown",
   "metadata": {},
   "source": [
    "Perfect! Now we have the dataset in order, with each capes submission on its own row. Furthermore ratings values are set, but still need more cleaning. For the cleaning, we will drop NA values, and the unnamed column. Furthermore, we are setting the rating column to be the average of all the other ratings. "
   ]
  },
  {
   "cell_type": "code",
   "execution_count": 140,
   "metadata": {},
   "outputs": [],
   "source": [
    "#Setting the dataframe, and cleaning it up\n",
    "df_cogs = df_cogs.dropna()\n",
    "df_cogs = df_cogs.drop(columns='Unnamed: 0')\n",
    "df_cogs.RATING = df_cogs[['know_rating','prep_rating','audible_rating',\n",
    "                          'expl_rating','attent_rating','note_rating',\n",
    "                          'stimu_rating']].mean(axis=1)"
   ]
  },
  {
   "cell_type": "code",
   "execution_count": null,
   "metadata": {},
   "outputs": [],
   "source": []
  },
  {
   "cell_type": "markdown",
   "metadata": {},
   "source": [
    "# Data Analysis & Visualization"
   ]
  },
  {
   "cell_type": "markdown",
   "metadata": {},
   "source": [
    "We start out by first looking at the data and what it has to offer\n",
    "\n",
    "First, we start by looking at the classrooms involved in the dataset. We see that there are a lot of entries for CSB, PCYNH, CENTR, and very little for CICC and Sequo. Meaning, that data may be skewed for those locations."
   ]
  },
  {
   "cell_type": "code",
   "execution_count": 141,
   "metadata": {
    "scrolled": true
   },
   "outputs": [
    {
     "data": {
      "image/png": "[encoded data removed]",
      "text/plain": [
       "<Figure size 432x288 with 1 Axes>"
      ]
     },
     "metadata": {},
     "output_type": "display_data"
    }
   ],
   "source": [
    "# Counts for each classroom\n",
    "counts = df_cogs['LOCATION'].value_counts()\n",
    "counts.plot(kind='barh')\n",
    "\n",
    "f1 = plt.gcf()"
   ]
  },
  {
   "cell_type": "markdown",
   "metadata": {},
   "source": [
    "As in the plot above, we only have a very small amount of data related to CICC, SEQUO, HSS and TM102. This is not enough for us to reach a conclusion about the relation between these locations and CAPES rating score, so we will drop locations with less than 10 occurrences."
   ]
  },
  {
   "cell_type": "code",
   "execution_count": 142,
   "metadata": {},
   "outputs": [
    {
     "data": {
      "image/png": "[encoded data removed]",
      "text/plain": [
       "<Figure size 432x288 with 1 Axes>"
      ]
     },
     "metadata": {},
     "output_type": "display_data"
    }
   ],
   "source": [
    "df_cogs = df_cogs[df_cogs['LOCATION'].isin(counts[counts>=10].index)]\n",
    "counts = df_cogs['LOCATION'].value_counts()\n",
    "counts.plot(kind='barh')\n",
    "\n",
    "f1 = plt.gcf()"
   ]
  },
  {
   "cell_type": "markdown",
   "metadata": {},
   "source": [
    "Now that we know which locations are most used in the cog sci department for the chosen classes, we can move on to see the correlations of the variables in comparison to each other.\n",
    "From the heatmap below, we can see that the correlations are reasonable. For example, recommendation of professor rating is most positvely correlated with the explanation rating. Preparation rating is most correlated with explanation rating too, and knowledge rating. Audible rating isn't extremely correlated with other ratings, suggesting it may be primarly effected by the classroom itself."
   ]
  },
  {
   "cell_type": "code",
   "execution_count": 143,
   "metadata": {},
   "outputs": [
    {
     "data": {
      "image/png": "[encoded data removed]",
      "text/plain": [
       "<Figure size 432x288 with 2 Axes>"
      ]
     },
     "metadata": {},
     "output_type": "display_data"
    }
   ],
   "source": [
    "## YOUR CODE HERE\n",
    "sns.set(style=\"ticks\")\n",
    "corr = df_cogs.corr()\n",
    "ax = sns.heatmap(\n",
    "    corr, \n",
    "    vmin=-1, vmax=1, center=0,\n",
    "    cmap=sns.diverging_palette(20, 220, n=200),\n",
    "    square=True\n",
    ")"
   ]
  },
  {
   "cell_type": "markdown",
   "metadata": {},
   "source": [
    "To continue our exploration of the ratings, we want to see if there is a link between location and ratings.  We setup a for loop to calculate the all the average ratings for each location, and save the entries in their respective variables."
   ]
  },
  {
   "cell_type": "code",
   "execution_count": 144,
   "metadata": {},
   "outputs": [],
   "source": [
    "classes = df_cogs.LOCATION.unique()\n",
    "average_ratings = np.zeros(len(classes))\n",
    "note_ratings = np.zeros(len(classes))\n",
    "prep_ratings = np.zeros(len(classes))\n",
    "audible_ratings = np.zeros(len(classes))\n",
    "expl_ratings = np.zeros(len(classes))\n",
    "rec_professor_ratings = np.zeros(len(classes))\n",
    "rec_course_ratings = np.zeros(len(classes))\n",
    "stimu_ratings = np.zeros(len(classes))\n",
    "note_ratings = np.zeros(len(classes))\n",
    "for i in range(len(classes)):\n",
    "    average_ratings[i] = df_cogs[df_cogs.LOCATION == classes[i]].RATING.mean()\n",
    "    note_ratings[i] = df_cogs[df_cogs.LOCATION == classes[i]].note_rating.mean()\n",
    "    prep_ratings[i] = df_cogs[df_cogs.LOCATION == classes[i]].prep_rating.mean()\n",
    "    audible_ratings[i] = df_cogs[df_cogs.LOCATION == classes[i]].audible_rating.mean()\n",
    "    expl_ratings[i] = df_cogs[df_cogs.LOCATION == classes[i]].expl_rating.mean()\n",
    "    rec_professor_ratings[i] = df_cogs[df_cogs.LOCATION == classes[i]].rec_professor_rating.mean()\n",
    "    rec_course_ratings[i] = df_cogs[df_cogs.LOCATION == classes[i]].rec_course_rating.mean()\n",
    "    stimu_ratings[i] = df_cogs[df_cogs.LOCATION == classes[i]].stimu_rating.mean()\n",
    "    if np.isnan(average_ratings[i]) :\n",
    "        average_ratings = average_ratings[:i]\n",
    "        note_ratings = note_ratings[:i]\n",
    "        prep_ratings = prep_ratings[:i]\n",
    "        audible_ratings = audible_ratings[:i]\n",
    "        expl_ratings = expl_ratings[:i]\n",
    "        rec_professor_ratings = rec_professor_ratings[:i]\n",
    "        rec_course_ratings = rec_course_rating[:i]\n",
    "        stimu_ratings = stimu_rating[:i]\n",
    "        classes[i]"
   ]
  },
  {
   "cell_type": "code",
   "execution_count": 145,
   "metadata": {},
   "outputs": [],
   "source": [
    "COLOR_MAP = {0 : '#461969ff',\n",
    "            1 : '#45337dff',\n",
    "            2 : '#3c4f8aff',\n",
    "            3 : '#33638dff',\n",
    "            4 : '#29788eff',\n",
    "            5 : '#25a186ff',\n",
    "            6 : '#35b479ff',\n",
    "            7 : '#5cc863ff',\n",
    "            8 : '#c3df2eff',\n",
    "            9 : '#fde725ff',\n",
    "            10 : '#45B39D',\n",
    "            11 : '#9B59B6',\n",
    "            12 : '#A9DFBF',\n",
    "            13 : '#D4AC0D'\n",
    "           }"
   ]
  },
  {
   "cell_type": "code",
   "execution_count": 146,
   "metadata": {},
   "outputs": [
    {
     "data": {
      "image/png": "[encoded data removed]",
      "text/plain": [
       "<Figure size 648x648 with 2 Axes>"
      ]
     },
     "metadata": {},
     "output_type": "display_data"
    }
   ],
   "source": [
    "color1 = [COLOR_MAP[l] for l in range(len(classes))]\n",
    "\n",
    "fig, ax = plt.subplots(nrows=2,ncols=1,figsize=(9,9))\n",
    "fig.subplots_adjust(hspace = 0.23, wspace=0.70)\n",
    "# Average Total Rating of each Location\n",
    "ax[0].barh(classes, average_ratings, alpha=0.5, color=color1)\n",
    "ax[0].set_xlabel('Total Rating')\n",
    "ax[0].set_title('Average of Total Rating',fontweight='bold')\n",
    "# Average Professor Rating of each Location\n",
    "ax[1].barh(classes, rec_professor_ratings, alpha=0.5, color=color1)\n",
    "ax[1].set_xlabel('Professor Rating')\n",
    "ax[1].set_title('Average Professor Rating',fontweight='bold')\n",
    "\n",
    "plt.show()"
   ]
  },
  {
   "cell_type": "code",
   "execution_count": 147,
   "metadata": {},
   "outputs": [
    {
     "data": {
      "image/png": "[encoded data removed]",
      "text/plain": [
       "<Figure size 648x648 with 2 Axes>"
      ]
     },
     "metadata": {},
     "output_type": "display_data"
    }
   ],
   "source": [
    "fig, ax = plt.subplots(nrows=2,ncols=1,figsize=(9,9))\n",
    "fig.subplots_adjust(hspace = 0.3, wspace=0.70)\n",
    "# Average Stimulation Rating\n",
    "ax[0].barh(classes, stimu_ratings, alpha=0.5, color=color1)\n",
    "ax[0].set_xlabel('Stimulation Rating')\n",
    "ax[0].set_title('Average Stimulation Rating',fontweight='bold')\n",
    "# Average Note Ratings of each Location\n",
    "ax[1].barh(classes, note_ratings, alpha=0.5, color=color1)\n",
    "ax[1].set_xlabel('Note Rating')\n",
    "ax[1].set_title('Average Note-Taking Rating',fontweight='bold')\n",
    "plt.show()"
   ]
  },
  {
   "cell_type": "markdown",
   "metadata": {},
   "source": [
    "From the visualizations above, we can see the 4 different average ratings for each location. Among all locations, lectures held at CENTR and PETER receive comparatively higher average CAPES rating. On the other hand, MANDE and WLH have relatively low rating for almost all four categories. \n",
    "All around, the note-taking rating is low for all the locations, with exceptions to Center hall. CSB fairs the highest note-taking rating, but Peterson has a higher average total rating. On the other hand, Peterson has a very low note rating, could be due to the limited projectors and age of the rooms. "
   ]
  },
  {
   "cell_type": "markdown",
   "metadata": {},
   "source": [
    "Yet we cannot make any definitive conclusion about the superority of PERTR and CENTR nor the inferiority of WLH and MANDE. While we've selected certain courses from the same department to make sure they're about the same level of difficulty, still there can be some confounding variable such as the possibility that most of COGS students don't like CSE, causing a lower rating for it. Therefore, we will continue on looking into classes from other department to see which classroom is \"magic\" accross all departments."
   ]
  },
  {
   "cell_type": "markdown",
   "metadata": {},
   "source": [
    "We repeat the same process for classes from CSE department (we chose CSE 8B, 8A, 30, 11 to ensure courses are of similar difficulty):"
   ]
  },
  {
   "cell_type": "code",
   "execution_count": 148,
   "metadata": {},
   "outputs": [
    {
     "data": {
      "text/html": [
       "<div>\n",
       "<style scoped>\n",
       "    .dataframe tbody tr th:only-of-type {\n",
       "        vertical-align: middle;\n",
       "    }\n",
       "\n",
       "    .dataframe tbody tr th {\n",
       "        vertical-align: top;\n",
       "    }\n",
       "\n",
       "    .dataframe thead th {\n",
       "        text-align: right;\n",
       "    }\n",
       "</style>\n",
       "<table border=\"1\" class=\"dataframe\">\n",
       "  <thead>\n",
       "    <tr style=\"text-align: right;\">\n",
       "      <th></th>\n",
       "      <th>Unnamed: 0</th>\n",
       "      <th>LOCATION</th>\n",
       "      <th>ROOM</th>\n",
       "      <th>QUARTER_INDEX</th>\n",
       "      <th>QUARTER</th>\n",
       "      <th>COURSE_ID</th>\n",
       "      <th>COURSE_NUM</th>\n",
       "      <th>SECTION</th>\n",
       "      <th>INSTRUCTOR_LAST</th>\n",
       "      <th>INSTRUCTOR_FIRST</th>\n",
       "      <th>...</th>\n",
       "      <th>RATING</th>\n",
       "      <th>know_rating</th>\n",
       "      <th>prep_rating</th>\n",
       "      <th>audible_rating</th>\n",
       "      <th>expl_rating</th>\n",
       "      <th>attent_rating</th>\n",
       "      <th>note_rating</th>\n",
       "      <th>stimu_rating</th>\n",
       "      <th>rec_course_rating</th>\n",
       "      <th>rec_professor_rating</th>\n",
       "    </tr>\n",
       "  </thead>\n",
       "  <tbody>\n",
       "    <tr>\n",
       "      <th>0</th>\n",
       "      <td>7815</td>\n",
       "      <td>NaN</td>\n",
       "      <td>NaN</td>\n",
       "      <td>9</td>\n",
       "      <td>FA12</td>\n",
       "      <td>CSE</td>\n",
       "      <td>11</td>\n",
       "      <td>755925</td>\n",
       "      <td>Ord</td>\n",
       "      <td>Richard</td>\n",
       "      <td>...</td>\n",
       "      <td>4.814815</td>\n",
       "      <td>4.301471</td>\n",
       "      <td>4.207407</td>\n",
       "      <td>4.169118</td>\n",
       "      <td>4.007353</td>\n",
       "      <td>3.305970</td>\n",
       "      <td>3.185185</td>\n",
       "      <td>4.096296</td>\n",
       "      <td>0.970588</td>\n",
       "      <td>0.904412</td>\n",
       "    </tr>\n",
       "    <tr>\n",
       "      <th>1</th>\n",
       "      <td>8523</td>\n",
       "      <td>PCYNH</td>\n",
       "      <td>109</td>\n",
       "      <td>9</td>\n",
       "      <td>FA12</td>\n",
       "      <td>CSE</td>\n",
       "      <td>30</td>\n",
       "      <td>755935</td>\n",
       "      <td>Ord</td>\n",
       "      <td>Richard</td>\n",
       "      <td>...</td>\n",
       "      <td>4.855670</td>\n",
       "      <td>4.686957</td>\n",
       "      <td>4.706897</td>\n",
       "      <td>4.784483</td>\n",
       "      <td>4.637931</td>\n",
       "      <td>4.336207</td>\n",
       "      <td>3.695652</td>\n",
       "      <td>4.330435</td>\n",
       "      <td>0.939655</td>\n",
       "      <td>0.991379</td>\n",
       "    </tr>\n",
       "    <tr>\n",
       "      <th>2</th>\n",
       "      <td>8640</td>\n",
       "      <td>PCYNH</td>\n",
       "      <td>109</td>\n",
       "      <td>9</td>\n",
       "      <td>FA12</td>\n",
       "      <td>CSE</td>\n",
       "      <td>8A</td>\n",
       "      <td>755909</td>\n",
       "      <td>Gillespie</td>\n",
       "      <td>Gary N</td>\n",
       "      <td>...</td>\n",
       "      <td>4.301471</td>\n",
       "      <td>4.814815</td>\n",
       "      <td>4.785047</td>\n",
       "      <td>4.822430</td>\n",
       "      <td>4.588785</td>\n",
       "      <td>3.953271</td>\n",
       "      <td>4.443396</td>\n",
       "      <td>4.398148</td>\n",
       "      <td>0.963964</td>\n",
       "      <td>0.936937</td>\n",
       "    </tr>\n",
       "    <tr>\n",
       "      <th>3</th>\n",
       "      <td>8661</td>\n",
       "      <td>PCYNH</td>\n",
       "      <td>109</td>\n",
       "      <td>9</td>\n",
       "      <td>FA12</td>\n",
       "      <td>CSE</td>\n",
       "      <td>8A</td>\n",
       "      <td>755913</td>\n",
       "      <td>Alvarado</td>\n",
       "      <td>Christine J.</td>\n",
       "      <td>...</td>\n",
       "      <td>4.686957</td>\n",
       "      <td>4.855670</td>\n",
       "      <td>4.824742</td>\n",
       "      <td>4.845361</td>\n",
       "      <td>4.721649</td>\n",
       "      <td>4.391753</td>\n",
       "      <td>4.762887</td>\n",
       "      <td>4.656250</td>\n",
       "      <td>0.938144</td>\n",
       "      <td>0.979381</td>\n",
       "    </tr>\n",
       "    <tr>\n",
       "      <th>4</th>\n",
       "      <td>8682</td>\n",
       "      <td>PCYNH</td>\n",
       "      <td>109</td>\n",
       "      <td>9</td>\n",
       "      <td>FA12</td>\n",
       "      <td>CSE</td>\n",
       "      <td>8A</td>\n",
       "      <td>762476</td>\n",
       "      <td>Lee</td>\n",
       "      <td>Cynthia Bailey</td>\n",
       "      <td>...</td>\n",
       "      <td>4.413793</td>\n",
       "      <td>4.413793</td>\n",
       "      <td>4.465517</td>\n",
       "      <td>4.508621</td>\n",
       "      <td>4.301724</td>\n",
       "      <td>3.829060</td>\n",
       "      <td>3.234783</td>\n",
       "      <td>4.258621</td>\n",
       "      <td>0.974576</td>\n",
       "      <td>0.940678</td>\n",
       "    </tr>\n",
       "  </tbody>\n",
       "</table>\n",
       "<p>5 rows × 22 columns</p>\n",
       "</div>"
      ],
      "text/plain": [
       "   Unnamed: 0 LOCATION ROOM  QUARTER_INDEX QUARTER COURSE_ID COURSE_NUM  \\\n",
       "0        7815      NaN  NaN              9    FA12       CSE         11   \n",
       "1        8523    PCYNH  109              9    FA12       CSE         30   \n",
       "2        8640    PCYNH  109              9    FA12       CSE         8A   \n",
       "3        8661    PCYNH  109              9    FA12       CSE         8A   \n",
       "4        8682    PCYNH  109              9    FA12       CSE         8A   \n",
       "\n",
       "   SECTION INSTRUCTOR_LAST INSTRUCTOR_FIRST  ...    RATING  know_rating  \\\n",
       "0   755925             Ord          Richard  ...  4.814815     4.301471   \n",
       "1   755935             Ord          Richard  ...  4.855670     4.686957   \n",
       "2   755909       Gillespie           Gary N  ...  4.301471     4.814815   \n",
       "3   755913        Alvarado     Christine J.  ...  4.686957     4.855670   \n",
       "4   762476             Lee   Cynthia Bailey  ...  4.413793     4.413793   \n",
       "\n",
       "   prep_rating  audible_rating  expl_rating  attent_rating  note_rating  \\\n",
       "0     4.207407        4.169118     4.007353       3.305970     3.185185   \n",
       "1     4.706897        4.784483     4.637931       4.336207     3.695652   \n",
       "2     4.785047        4.822430     4.588785       3.953271     4.443396   \n",
       "3     4.824742        4.845361     4.721649       4.391753     4.762887   \n",
       "4     4.465517        4.508621     4.301724       3.829060     3.234783   \n",
       "\n",
       "   stimu_rating  rec_course_rating  rec_professor_rating  \n",
       "0      4.096296           0.970588              0.904412  \n",
       "1      4.330435           0.939655              0.991379  \n",
       "2      4.398148           0.963964              0.936937  \n",
       "3      4.656250           0.938144              0.979381  \n",
       "4      4.258621           0.974576              0.940678  \n",
       "\n",
       "[5 rows x 22 columns]"
      ]
     },
     "execution_count": 148,
     "metadata": {},
     "output_type": "execute_result"
    }
   ],
   "source": [
    "df_vis = pd.read_csv(\"CSE_CAPES.csv\")\n",
    "df_vis.head(5)"
   ]
  },
  {
   "cell_type": "code",
   "execution_count": 149,
   "metadata": {},
   "outputs": [],
   "source": [
    "#Setting the dataframe, and cleaning it up\n",
    "df_vis = df_vis.dropna()\n",
    "df_vis = df_vis.drop(columns='Unnamed: 0')\n",
    "df_vis.RATING = df_vis[['know_rating','prep_rating','audible_rating',\n",
    "                          'expl_rating','attent_rating','note_rating',\n",
    "                          'stimu_rating']].mean(axis=1)"
   ]
  },
  {
   "cell_type": "code",
   "execution_count": 150,
   "metadata": {},
   "outputs": [
    {
     "data": {
      "image/png": "[encoded data removed]",
      "text/plain": [
       "<Figure size 432x288 with 1 Axes>"
      ]
     },
     "metadata": {},
     "output_type": "display_data"
    }
   ],
   "source": [
    "counts = df_vis['LOCATION'].value_counts()\n",
    "df_vis = df_vis[df_vis['LOCATION'].isin(counts[counts>=10].index)]\n",
    "counts = df_vis['LOCATION'].value_counts()\n",
    "counts.plot(kind='barh')\n",
    "\n",
    "f1 = plt.gcf()"
   ]
  },
  {
   "cell_type": "code",
   "execution_count": 151,
   "metadata": {},
   "outputs": [
    {
     "data": {
      "image/png": "[encoded data removed]",
      "text/plain": [
       "<Figure size 432x288 with 2 Axes>"
      ]
     },
     "metadata": {},
     "output_type": "display_data"
    }
   ],
   "source": [
    "## YOUR CODE HERE\n",
    "sns.set(style=\"ticks\")\n",
    "corr = df_vis.corr()\n",
    "ax = sns.heatmap(\n",
    "    corr, \n",
    "    vmin=-1, vmax=1, center=0,\n",
    "    cmap=sns.diverging_palette(20, 220, n=200),\n",
    "    square=True\n",
    ")"
   ]
  },
  {
   "cell_type": "markdown",
   "metadata": {},
   "source": [
    "To continue our exploration of the ratings, we want to see if there is a link between location and ratings.  We setup a for loop to calculate the all the average ratings for each location, and save the entries in their respective variables."
   ]
  },
  {
   "cell_type": "code",
   "execution_count": 152,
   "metadata": {},
   "outputs": [],
   "source": [
    "classes = df_vis.LOCATION.unique()\n",
    "average_ratings = np.zeros(len(classes))\n",
    "note_ratings = np.zeros(len(classes))\n",
    "prep_ratings = np.zeros(len(classes))\n",
    "audible_ratings = np.zeros(len(classes))\n",
    "expl_ratings = np.zeros(len(classes))\n",
    "rec_professor_ratings = np.zeros(len(classes))\n",
    "rec_course_ratings = np.zeros(len(classes))\n",
    "stimu_ratings = np.zeros(len(classes))\n",
    "note_ratings = np.zeros(len(classes))\n",
    "for i in range(len(classes)):\n",
    "    average_ratings[i] = df_vis[df_vis.LOCATION == classes[i]].RATING.mean()\n",
    "    note_ratings[i] = df_vis[df_vis.LOCATION == classes[i]].note_rating.mean()\n",
    "    prep_ratings[i] = df_vis[df_vis.LOCATION == classes[i]].prep_rating.mean()\n",
    "    audible_ratings[i] = df_vis[df_vis.LOCATION == classes[i]].audible_rating.mean()\n",
    "    expl_ratings[i] = df_vis[df_vis.LOCATION == classes[i]].expl_rating.mean()\n",
    "    rec_professor_ratings[i] = df_vis[df_vis.LOCATION == classes[i]].rec_professor_rating.mean()\n",
    "    rec_course_ratings[i] = df_vis[df_vis.LOCATION == classes[i]].rec_course_rating.mean()\n",
    "    stimu_ratings[i] = df_vis[df_vis.LOCATION == classes[i]].stimu_rating.mean()\n",
    "    if np.isnan(average_ratings[i]) :\n",
    "        average_ratings = average_ratings[:i]\n",
    "        note_ratings = note_ratings[:i]\n",
    "        prep_ratings = prep_ratings[:i]\n",
    "        audible_ratings = audible_ratings[:i]\n",
    "        expl_ratings = expl_ratings[:i]\n",
    "        rec_professor_ratings = rec_professor_ratings[:i]\n",
    "        rec_course_ratings = rec_course_rating[:i]\n",
    "        stimu_ratings = stimu_rating[:i]\n",
    "        classes[i]"
   ]
  },
  {
   "cell_type": "code",
   "execution_count": 153,
   "metadata": {},
   "outputs": [],
   "source": [
    "COLOR_MAP = {0 : '#461969ff',\n",
    "            1 : '#45337dff',\n",
    "            2 : '#3c4f8aff',\n",
    "            3 : '#33638dff',\n",
    "            4 : '#29788eff',\n",
    "            5 : '#25a186ff',\n",
    "            6 : '#35b479ff',\n",
    "            7 : '#5cc863ff',\n",
    "            8 : '#c3df2eff',\n",
    "            9 : '#fde725ff',\n",
    "            10 : '#45B39D',\n",
    "            11 : '#9B59B6',\n",
    "            12 : '#A9DFBF',\n",
    "            13 : '#D4AC0D'\n",
    "           }"
   ]
  },
  {
   "cell_type": "code",
   "execution_count": 154,
   "metadata": {},
   "outputs": [
    {
     "data": {
      "image/png": "[encoded data removed]",
      "text/plain": [
       "<Figure size 648x648 with 2 Axes>"
      ]
     },
     "metadata": {},
     "output_type": "display_data"
    }
   ],
   "source": [
    "color1 = [COLOR_MAP[l] for l in range(len(classes))]\n",
    "\n",
    "fig, ax = plt.subplots(nrows=2,ncols=1,figsize=(9,9))\n",
    "fig.subplots_adjust(hspace = 0.23, wspace=0.70)\n",
    "# Average Total Rating of each Location\n",
    "ax[0].barh(classes, average_ratings, alpha=0.5, color=color1)\n",
    "ax[0].set_xlabel('Total Rating')\n",
    "ax[0].set_title('Average of Total Rating',fontweight='bold')\n",
    "# Average Professor Rating of each Location\n",
    "ax[1].barh(classes, rec_professor_ratings, alpha=0.5, color=color1)\n",
    "ax[1].set_xlabel('Professor Rating')\n",
    "ax[1].set_title('Average Professor Rating',fontweight='bold')\n",
    "\n",
    "plt.show()"
   ]
  },
  {
   "cell_type": "code",
   "execution_count": 155,
   "metadata": {
    "scrolled": true
   },
   "outputs": [
    {
     "data": {
      "image/png": "[encoded data removed]",
      "text/plain": [
       "<Figure size 648x648 with 2 Axes>"
      ]
     },
     "metadata": {},
     "output_type": "display_data"
    }
   ],
   "source": [
    "fig, ax = plt.subplots(nrows=2,ncols=1,figsize=(9,9))\n",
    "fig.subplots_adjust(hspace = 0.3, wspace=0.70)\n",
    "# Average Stimulation Rating\n",
    "ax[0].barh(classes, stimu_ratings, alpha=0.5, color=color1)\n",
    "ax[0].set_xlabel('Stimulation Rating')\n",
    "ax[0].set_title('Average Stimulation Rating',fontweight='bold')\n",
    "# Average Note Ratings of each Location\n",
    "ax[1].barh(classes, note_ratings, alpha=0.5, color=color1)\n",
    "ax[1].set_xlabel('Note Rating')\n",
    "ax[1].set_title('Average Note-Taking Rating',fontweight='bold')\n",
    "plt.show()"
   ]
  },
  {
   "cell_type": "markdown",
   "metadata": {},
   "source": [
    "We see that WLH is the least popular location among CSE students, while CENTR is a pretty popular one. The result somewhat coincides with the previous one from COGS department. Let's set our eyes on CENTR and WLH for the moment.\n",
    "\n",
    "First we are going to extract the rating for all lectures held at CENTR or WLH."
   ]
  },
  {
   "cell_type": "code",
   "execution_count": 156,
   "metadata": {},
   "outputs": [
    {
     "ename": "IndentationError",
     "evalue": "unexpected indent (<ipython-input-156-72eceb94d68a>, line 2)",
     "output_type": "error",
     "traceback": [
      "\u001b[1;36m  File \u001b[1;32m\"<ipython-input-156-72eceb94d68a>\"\u001b[1;36m, line \u001b[1;32m2\u001b[0m\n\u001b[1;33m    know_rating = pd.Series(data[data.CAPE_ID == 5].RATING)\u001b[0m\n\u001b[1;37m    ^\u001b[0m\n\u001b[1;31mIndentationError\u001b[0m\u001b[1;31m:\u001b[0m unexpected indent\n"
     ]
    }
   ],
   "source": [
    "#temporarily place here for reference\n",
    "    know_rating = pd.Series(data[data.CAPE_ID == 5].RATING)\n",
    "    prep_rating = pd.Series(data[data.CAPE_ID == 6].RATING)\n",
    "    audible_rating = pd.Series(data[data.CAPE_ID == 7].RATING)\n",
    "    expl_rating = pd.Series(data[data.CAPE_ID == 8].RATING)\n",
    "    attent_rating = pd.Series(data[data.CAPE_ID == 9].RATING)\n",
    "    note_rating = pd.Series(data[data.CAPE_ID == 10].RATING)\n",
    "    stimu_rating = pd.Series(data[data.CAPE_ID == 17].RATING)\n",
    "    rec_course_rating = pd.Series(data[data.CAPE_ID == 26].RATING)\n",
    "    rec_professor_rating = pd.Series(data[data.CAPE_ID == 27].RATING)"
   ]
  },
  {
   "cell_type": "code",
   "execution_count": 157,
   "metadata": {},
   "outputs": [],
   "source": [
    "df_all = pd.read_csv('CAPES.csv')\n",
    "\n",
    "df_ctr = df_all.loc[df_all['LOCATION'] == 'CENTR']\n",
    "df_wlh = df_all.loc[df_all['LOCATION'].str.strip() == 'WLH']\n",
    "\n",
    "ctr_know_rating = df_ctr.loc[df_ctr['CAPE_ID'] == 5, 'RATING']\n",
    "wlh_know_rating = df_wlh.loc[df_wlh['CAPE_ID'] == 5, 'RATING']\n",
    "\n",
    "\n"
   ]
  },
  {
   "cell_type": "code",
   "execution_count": null,
   "metadata": {},
   "outputs": [],
   "source": []
  },
  {
   "cell_type": "code",
   "execution_count": 158,
   "metadata": {},
   "outputs": [
    {
     "data": {
      "text/plain": [
       "count    7196.000000\n",
       "mean        4.466018\n",
       "std         0.356681\n",
       "min         1.833333\n",
       "25%         4.285714\n",
       "50%         4.530793\n",
       "75%         4.714286\n",
       "max         5.000000\n",
       "Name: RATING, dtype: float64"
      ]
     },
     "execution_count": 158,
     "metadata": {},
     "output_type": "execute_result"
    }
   ],
   "source": [
    "ctr_know_rating.describe()"
   ]
  },
  {
   "cell_type": "code",
   "execution_count": 159,
   "metadata": {},
   "outputs": [
    {
     "data": {
      "text/plain": [
       "count    6501.000000\n",
       "mean        4.461395\n",
       "std         0.375054\n",
       "min         2.136364\n",
       "25%         4.277778\n",
       "50%         4.533333\n",
       "75%         4.727273\n",
       "max         5.000000\n",
       "Name: RATING, dtype: float64"
      ]
     },
     "execution_count": 159,
     "metadata": {},
     "output_type": "execute_result"
    }
   ],
   "source": [
    "wlh_know_rating.describe()"
   ]
  },
  {
   "cell_type": "markdown",
   "metadata": {},
   "source": [
    "For rating on Professor's master of course knowledge, we didn't witness much difference between two location, expectedly, as this is not a factor that should be affected by the classroom. But still we need to do an overall comparison between CENTR and WLH to determine whether CENTR really has certain advantages over WLH."
   ]
  },
  {
   "cell_type": "code",
   "execution_count": 160,
   "metadata": {},
   "outputs": [],
   "source": [
    "ctr_note_rating = df_ctr.loc[df_ctr['CAPE_ID'] == 10, 'RATING']\n",
    "wlh_note_rating = df_wlh.loc[df_wlh['CAPE_ID'] == 10, 'RATING']"
   ]
  },
  {
   "cell_type": "code",
   "execution_count": 161,
   "metadata": {},
   "outputs": [
    {
     "data": {
      "text/plain": [
       "count    7166.000000\n",
       "mean        3.914406\n",
       "std         0.543694\n",
       "min         1.000000\n",
       "25%         3.583333\n",
       "50%         4.000000\n",
       "75%         4.318182\n",
       "max         5.000000\n",
       "Name: RATING, dtype: float64"
      ]
     },
     "execution_count": 161,
     "metadata": {},
     "output_type": "execute_result"
    }
   ],
   "source": [
    "ctr_note_rating.describe()"
   ]
  },
  {
   "cell_type": "code",
   "execution_count": 162,
   "metadata": {},
   "outputs": [
    {
     "data": {
      "text/plain": [
       "count    6475.000000\n",
       "mean        4.039244\n",
       "std         0.533162\n",
       "min         1.571429\n",
       "25%         3.739130\n",
       "50%         4.111111\n",
       "75%         4.428571\n",
       "max         5.000000\n",
       "Name: RATING, dtype: float64"
      ]
     },
     "execution_count": 162,
     "metadata": {},
     "output_type": "execute_result"
    }
   ],
   "source": [
    "wlh_note_rating.describe()"
   ]
  },
  {
   "cell_type": "markdown",
   "metadata": {},
   "source": [
    "With prep and knowledge rating not showing much difference between the two halls, the note taking rating on the other hand does. Warren has a higher mean, lower std deviation, higher minimum, and better note taking stats all around. Wondering what this is, we will import a classroom attributes dataset to go over the differences between the buildings."
   ]
  },
  {
   "cell_type": "code",
   "execution_count": 163,
   "metadata": {},
   "outputs": [],
   "source": [
    "room = pd.read_csv(\"ClassroomAttributes.csv\")\n",
    "\n",
    "def change(acoustic):\n",
    "    if acoustic[1:5] == ' - P':\n",
    "        acoustic = 'Poor'\n",
    "    if acoustic[1:5] == ' - F':\n",
    "        acoustic = 'Fair'\n",
    "    if acoustic[1:5] == ' - G':\n",
    "        acoustic = 'Good'\n",
    "    return acoustic\n",
    "\n",
    "room.Acoustics = room.Acoustics.apply(change)"
   ]
  },
  {
   "cell_type": "code",
   "execution_count": 164,
   "metadata": {},
   "outputs": [
    {
     "data": {
      "text/plain": [
       "count       26\n",
       "unique       3\n",
       "top       Poor\n",
       "freq        21\n",
       "Name: Acoustics, dtype: object"
      ]
     },
     "execution_count": 164,
     "metadata": {},
     "output_type": "execute_result"
    }
   ],
   "source": [
    "room[room['Building Name'] == \"Center Hall\"].Acoustics.describe()"
   ]
  },
  {
   "cell_type": "code",
   "execution_count": 165,
   "metadata": {},
   "outputs": [
    {
     "data": {
      "text/plain": [
       "count       14\n",
       "unique       2\n",
       "top       Good\n",
       "freq        10\n",
       "Name: Acoustics, dtype: object"
      ]
     },
     "execution_count": 165,
     "metadata": {},
     "output_type": "execute_result"
    }
   ],
   "source": [
    "room[room['Building Name'] == \"Warren Lecture Hall\"].Acoustics.describe()"
   ]
  },
  {
   "cell_type": "code",
   "execution_count": 166,
   "metadata": {},
   "outputs": [
    {
     "name": "stdout",
     "output_type": "stream",
     "text": [
      "Center Hall Auditory Rating: 4.33417692274747\n",
      "Warren Lecture Hall Auditory Rating: 4.286381370386814\n"
     ]
    }
   ],
   "source": [
    "ctr_audi_rating = df_ctr.loc[df_ctr['CAPE_ID'] == 7, 'RATING']\n",
    "wlh_audi_rating = df_wlh.loc[df_wlh['CAPE_ID'] == 7, 'RATING']\n",
    "print(\"Center Hall Auditory Rating:\", ctr_audi_rating.mean())\n",
    "print(\"Warren Lecture Hall Auditory Rating:\", wlh_audi_rating.mean())\n"
   ]
  },
  {
   "cell_type": "markdown",
   "metadata": {},
   "source": [
    "We can instantly see a quick difference! Warren Lecture Hall has a total of 14 different classrooms, 10 with Good Acoustics, while Center Hall has a total of 26 classes, with 21 of them having Poor acoustics. This could be the reason the note taking rating is lower in center hall. However, the Center Hall auditory rating still seems to be a bit higher than WLH's rating."
   ]
  },
  {
   "cell_type": "code",
   "execution_count": 167,
   "metadata": {},
   "outputs": [
    {
     "data": {
      "text/plain": [
       "Text(0.5, 1.0, 'Center Hall')"
      ]
     },
     "execution_count": 167,
     "metadata": {},
     "output_type": "execute_result"
    },
    {
     "data": {
      "image/png": "[encoded data removed]",
      "text/plain": [
       "<Figure size 648x648 with 2 Axes>"
      ]
     },
     "metadata": {},
     "output_type": "display_data"
    }
   ],
   "source": [
    "wlh_room = room[room['Building Name'] == \"Warren Lecture Hall\"]['Room Type']\n",
    "ctr_room = room[room['Building Name'] == \"Center Hall\"]['Room Type']\n",
    "\n",
    "fig, ax = plt.subplots(nrows=1,ncols=2,figsize=(9,9))\n",
    "fig.subplots_adjust(hspace = 0.33, wspace=0.50)\n",
    "\n",
    "sns.countplot(wlh_room, ax=ax[0])\n",
    "ax[0].set_title('Warren Lecture Hall',fontweight='bold')\n",
    "sns.countplot(ctr_room, ax=ax[1])\n",
    "ax[1].set_title('Center Hall',fontweight='bold')"
   ]
  },
  {
   "cell_type": "markdown",
   "metadata": {},
   "source": [
    "The room type plots show a higher ratio of classrooms in warren lecture hall, meaning a smaller class size, and a more closer view to both the professor and the board. This along with the higher acoustics rating leads us to believe that is why the note taking rating is higher, also keeping in mind that the knowledge rating is equivalent in both buildings."
   ]
  },
  {
   "cell_type": "markdown",
   "metadata": {},
   "source": [
    "Furthermore, we continue exploring other discrepencies between the buildings"
   ]
  },
  {
   "cell_type": "code",
   "execution_count": 168,
   "metadata": {},
   "outputs": [
    {
     "data": {
      "image/png": "[encoded data removed]",
      "text/plain": [
       "<Figure size 1332x756 with 1 Axes>"
      ]
     },
     "metadata": {},
     "output_type": "display_data"
    }
   ],
   "source": [
    "ID_LIST = [5,6,7,8,9,10,17,26,27]\n",
    "STR_LIST = ['know_rating', 'prep_rating', 'audible_rating', 'expl_rating', 'attent_rating', 'note_rating', 'stimu_rating', \n",
    "            'rec_course_rating', 'rec_professor_rating']\n",
    "dic_ctr = {}\n",
    "dic_wlh = {}\n",
    "\n",
    "for i in range(0, len(ID_LIST)):\n",
    "    dic_ctr[STR_LIST[i]] = df_ctr.loc[df_ctr['CAPE_ID'] == ID_LIST[i], 'RATING'].mean()\n",
    "    dic_wlh[STR_LIST[i]] = df_wlh.loc[df_wlh['CAPE_ID'] == ID_LIST[i], 'RATING'].mean()\n",
    "\n",
    "ind = np.arange(len(dic_ctr))\n",
    "ax = plt.subplot(111)\n",
    "ax.bar(ind, dic_ctr.values(), width=0.2, color='b', align='center')\n",
    "ax.bar(ind-0.2, dic_wlh.values(), width=0.2, color='g', align='center')\n",
    "ax.legend(('CENTR', 'WLH'))\n",
    "plt.xticks(ind, STR_LIST)\n",
    "plt.title('Average CAPES Rating WLH vs. CENTR', fontsize=17)\n",
    "\n",
    "fig = plt.gcf()\n",
    "fig.set_size_inches(18.5, 10.5)"
   ]
  },
  {
   "cell_type": "markdown",
   "metadata": {},
   "source": [
    "While generally there isn't a huge difference between the CAPES rating of WLH and CENTR, the average CAPES rating on audibility and professor's explanation for CENTR is a bit higher than that for WLH. We can furthur dig into that to see whether there's a significant difference between two places for this specific CAPES rating.\n",
    "\n",
    "In other words, we want to perform a paired t test on the average rating for CENTR and WLH."
   ]
  },
  {
   "cell_type": "code",
   "execution_count": 169,
   "metadata": {},
   "outputs": [],
   "source": [
    "ctr_audible_rating = df_ctr.loc[df_ctr['CAPE_ID'] == 7, 'RATING']\n",
    "wlh_audible_rating = df_wlh.loc[df_wlh['CAPE_ID'] == 7, 'RATING']\n",
    "ctr_expl_rating = df_ctr.loc[df_ctr['CAPE_ID'] == 8, 'RATING']\n",
    "wlh_expl_rating = df_wlh.loc[df_wlh['CAPE_ID'] == 8, 'RATING']"
   ]
  },
  {
   "cell_type": "markdown",
   "metadata": {},
   "source": [
    "First we want to check whether there are significant outlier in each variable."
   ]
  },
  {
   "cell_type": "code",
   "execution_count": 170,
   "metadata": {},
   "outputs": [
    {
     "data": {
      "text/plain": [
       "[Text(0, 0, 'ctr_audible'),\n",
       " Text(0, 0, 'wlh_audible'),\n",
       " Text(0, 0, 'ctr_expl'),\n",
       " Text(0, 0, 'wlh_expl')]"
      ]
     },
     "execution_count": 170,
     "metadata": {},
     "output_type": "execute_result"
    },
    {
     "data": {
      "image/png": "[encoded data removed]",
      "text/plain": [
       "<Figure size 432x288 with 1 Axes>"
      ]
     },
     "metadata": {},
     "output_type": "display_data"
    }
   ],
   "source": [
    "fig, ax = plt.subplots()\n",
    "ax.boxplot([ctr_audible_rating, wlh_audible_rating, ctr_expl_rating, wlh_expl_rating])\n",
    "ax.set_xticklabels(['ctr_audible', 'wlh_audible', 'ctr_expl', 'wlh_expl'])"
   ]
  },
  {
   "cell_type": "markdown",
   "metadata": {},
   "source": [
    "From the boxplot we see that the distribution of all four CAPES rating are severely skewed to the left with abundance of outliers, which is not good and could lead to bias. It's very likely that the outliers are due to certain professors with unsatisfiable articulability that significantly lowers the average rating. Thus we will want to find a single professor who does not tend to have very low rating on these two subjects and frequently presents lecture in CENTR and WLH."
   ]
  },
  {
   "cell_type": "code",
   "execution_count": 171,
   "metadata": {},
   "outputs": [
    {
     "name": "stdout",
     "output_type": "stream",
     "text": [
      "470 1989\n",
      " Adam R.\n"
     ]
    },
    {
     "data": {
      "text/plain": [
       "' Adam R.'"
      ]
     },
     "execution_count": 171,
     "metadata": {},
     "output_type": "execute_result"
    }
   ],
   "source": [
    "d1 = df_ctr['INSTRUCTOR_FIRST'].value_counts()\n",
    "d2 = df_wlh['INSTRUCTOR_FIRST'].value_counts()\n",
    "\n",
    "def findFirstCommon(d1, d2):\n",
    "    d1_keys = d1.keys().tolist()\n",
    "    d1_counts = d1.tolist()\n",
    "    d2_keys = d2.keys().tolist()\n",
    "    d2_counts = d2.tolist()\n",
    "    \n",
    "    MAX = 0\n",
    "    maxKeys = ''\n",
    "    maxIndex = (0, 0)\n",
    "    for i in range(0, len(d1_keys)):\n",
    "        if (d1_keys[i] in d2_keys):\n",
    "            i2 = d2_keys.index(d1_keys[i])\n",
    "            # To ensure the instructor presents lecture frequently at 'both' places\n",
    "            if (d1_counts[i] > 100 and d2_counts[i2] > 100):\n",
    "                s = d1_counts[i]+d2_counts[i2]\n",
    "                if s > MAX:\n",
    "                    MAX = s\n",
    "                    if d1_keys[i] != ' Michael':\n",
    "                        maxKeys = d1_keys[i]\n",
    "                        maxIndex = (i, i2)\n",
    "    \n",
    "    print(d1_counts[maxIndex[0]], d2_counts[maxIndex[1]])\n",
    "    print(maxKeys)\n",
    "    return maxKeys\n",
    "\n",
    "findFirstCommon(d1, d2)"
   ]
  },
  {
   "cell_type": "markdown",
   "metadata": {},
   "source": [
    "Using the function above, we find out that the Professor who most frequenlty presents lecture at CENTER and WLH is Bowers, Adam R who is a MATH Professor. He will become our focus of study."
   ]
  },
  {
   "cell_type": "code",
   "execution_count": 172,
   "metadata": {},
   "outputs": [
    {
     "data": {
      "text/plain": [
       "[Text(0, 0, 'ctr_audible'),\n",
       " Text(0, 0, 'wlh_audible'),\n",
       " Text(0, 0, 'ctr_expl'),\n",
       " Text(0, 0, 'wlh_expl')]"
      ]
     },
     "execution_count": 172,
     "metadata": {},
     "output_type": "execute_result"
    },
    {
     "data": {
      "image/png": "[encoded data removed]",
      "text/plain": [
       "<Figure size 432x288 with 1 Axes>"
      ]
     },
     "metadata": {},
     "output_type": "display_data"
    }
   ],
   "source": [
    "# Extrac the data again\n",
    "ctr_audible_rating = df_ctr.loc[(df_ctr['INSTRUCTOR_FIRST'].str.strip() == 'Adam R.') & (df_ctr['CAPE_ID'] == 7), 'RATING']\n",
    "wlh_audible_rating = df_wlh.loc[(df_wlh['INSTRUCTOR_FIRST'].str.strip() == 'Adam R.') & (df_wlh['CAPE_ID'] == 7), 'RATING']\n",
    "ctr_expl_rating = df_ctr.loc[(df_ctr['INSTRUCTOR_FIRST'].str.strip() == 'Adam R.') & (df_ctr['CAPE_ID'] == 8), 'RATING']\n",
    "wlh_expl_rating = df_wlh.loc[(df_wlh['INSTRUCTOR_FIRST'].str.strip() == 'Adam R.') & (df_wlh['CAPE_ID'] == 8), 'RATING']\n",
    "\n",
    "fig, ax = plt.subplots()\n",
    "ax.boxplot([ctr_audible_rating, wlh_audible_rating, ctr_expl_rating, wlh_expl_rating])\n",
    "ax.set_xticklabels(['ctr_audible', 'wlh_audible', 'ctr_expl', 'wlh_expl'])"
   ]
  },
  {
   "cell_type": "code",
   "execution_count": 173,
   "metadata": {},
   "outputs": [
    {
     "name": "stdout",
     "output_type": "stream",
     "text": [
      "NormaltestResult(statistic=0.08264118226404442, pvalue=0.959521466560193) \n",
      " NormaltestResult(statistic=23.547835806302835, pvalue=7.70286744361849e-06) \n",
      " NormaltestResult(statistic=1.3901832812032966, pvalue=0.4990287145980049) \n",
      " NormaltestResult(statistic=39.18257864677787, pvalue=3.10178115790718e-09)\n",
      "33 93\n"
     ]
    }
   ],
   "source": [
    "print(stats.normaltest(ctr_audible_rating), '\\n', stats.normaltest(wlh_audible_rating),\n",
    "      '\\n', stats.normaltest(ctr_expl_rating), '\\n', stats.normaltest(wlh_expl_rating))\n",
    "print(len(ctr_audible_rating), len(wlh_audible_rating))"
   ]
  },
  {
   "cell_type": "markdown",
   "metadata": {},
   "source": [
    "As seen in the boxplot and the normaltest above, we manage to reduce many of the outliers and select a sample that is more centralized. The size of the observation are 33 and 93 respectively, by Central Limit Theorem, we can perform a paired t test to find out the difference in sample means."
   ]
  },
  {
   "cell_type": "code",
   "execution_count": 174,
   "metadata": {},
   "outputs": [
    {
     "name": "stdout",
     "output_type": "stream",
     "text": [
      "Ttest_indResult(statistic=-1.561327972361426, pvalue=0.1209949956465099) \n",
      " Ttest_indResult(statistic=0.06248359641752124, pvalue=0.9502783309097182)\n"
     ]
    }
   ],
   "source": [
    "print(stats.ttest_ind(ctr_audible_rating, wlh_audible_rating), '\\n', stats.ttest_ind(ctr_expl_rating, wlh_expl_rating))"
   ]
  },
  {
   "cell_type": "markdown",
   "metadata": {},
   "source": [
    "P-values on both tests are greater than our the significance level of '0.05', indicating that there're no significant mean difference between the samples. We fail to conclude that presenting lectures at WLH or CENTR will affect the CAPES rating on audibility or explanation clarity"
   ]
  },
  {
   "cell_type": "markdown",
   "metadata": {},
   "source": [
    "# Ethics & Privacy"
   ]
  },
  {
   "cell_type": "markdown",
   "metadata": {},
   "source": [
    "*Fill in your ethics & privacy discussion here*"
   ]
  },
  {
   "cell_type": "markdown",
   "metadata": {},
   "source": [
    "# Conclusion & Discussion"
   ]
  },
  {
   "cell_type": "markdown",
   "metadata": {},
   "source": [
    "*Fill in your discussion information here*"
   ]
  }
 ],
 "metadata": {
  "kernelspec": {
   "display_name": "Python 3",
   "language": "python",
   "name": "python3"
  },
  "language_info": {
   "codemirror_mode": {
    "name": "ipython",
    "version": 3
   },
   "file_extension": ".py",
   "mimetype": "text/x-python",
   "name": "python",
   "nbconvert_exporter": "python",
   "pygments_lexer": "ipython3",
   "version": "3.7.3"
  }
 },
 "nbformat": 4,
 "nbformat_minor": 2
}
