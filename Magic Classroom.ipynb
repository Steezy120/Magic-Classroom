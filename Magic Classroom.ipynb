{
 "cells": [
  {
   "cell_type": "markdown",
   "metadata": {},
   "source": [
    "# COGS 108 - Final Project "
   ]
  },
  {
   "cell_type": "markdown",
   "metadata": {},
   "source": [
    "# Overview"
   ]
  },
  {
   "cell_type": "markdown",
   "metadata": {},
   "source": [
    "*Fill in your overview here*"
   ]
  },
  {
   "cell_type": "markdown",
   "metadata": {},
   "source": [
    "# Group Members\n",
    "- Thao Hoang (A13583188)\n",
    "- Him Li (A14754959)\n",
    "- Paul Zhu ()\n",
    "- Rishabh Singhal()\n",
    "- Jiaxin Ge (A13409166)\n",
    "- Talal AlQadi (A13816618)\n"
   ]
  },
  {
   "cell_type": "markdown",
   "metadata": {},
   "source": [
    "\n"
   ]
  },
  {
   "cell_type": "markdown",
   "metadata": {},
   "source": [
    "# Research Question"
   ]
  },
  {
   "cell_type": "markdown",
   "metadata": {},
   "source": [
    "*Fill in your research question here*"
   ]
  },
  {
   "cell_type": "markdown",
   "metadata": {},
   "source": [
    "## Background and Introduction"
   ]
  },
  {
   "cell_type": "markdown",
   "metadata": {},
   "source": [
    "*Fill in your background and prior work here* \n",
    "\n",
    "References (include links):\n",
    "- 1)\n",
    "- 2)"
   ]
  },
  {
   "cell_type": "markdown",
   "metadata": {},
   "source": [
    "# Hypothesis\n"
   ]
  },
  {
   "cell_type": "markdown",
   "metadata": {},
   "source": [
    "*Fill in your hypotheses here*"
   ]
  },
  {
   "cell_type": "markdown",
   "metadata": {},
   "source": [
    "# Dataset(s)"
   ]
  },
  {
   "cell_type": "markdown",
   "metadata": {},
   "source": [
    "*Fill in your dataset information here*\n",
    "\n",
    "(Copy this information for each dataset)\n",
    "- Dataset Name:\n",
    "- Link to the dataset:\n",
    "- Number of observations:\n",
    "\n",
    "1-2 sentences describing each dataset. \n",
    "\n",
    "If you plan to use multiple datasets, add 1-2 sentences about how you plan to combine these datasets."
   ]
  },
  {
   "cell_type": "markdown",
   "metadata": {},
   "source": []
  },
  {
   "cell_type": "markdown",
   "metadata": {},
   "source": [
    "# Data Gathering, Wrangling, and Cleaning"
   ]
  },
  {
   "cell_type": "markdown",
   "metadata": {},
   "source": [
    "Our first step is gathering the data, by taking out the data we require. We initialize a parameters list to adjust filtration based on terms set in the list. We do this to gather all capes submission with cogs using the ClassExtractor function. Which just queries the rows of data out based on the set list, waiting to be transposed by the transpose function.\n",
    "The next step is to change the dataset, to be more accessible for analysis and to be visually pleasing."
   ]
  },
  {
   "cell_type": "code",
   "execution_count": 141,
   "metadata": {},
   "outputs": [],
   "source": [
    "# Setup\n",
    "import pandas as pd\n",
    "import numpy as np\n",
    "import math\n",
    "\n",
    "\n",
    "# Visualizations\n",
    "from pandas.plotting import scatter_matrix\n",
    "import matplotlib.pyplot as plt\n",
    "import patsy\n",
    "import statsmodels.api as sm\n",
    "import scipy.stats as stats\n",
    "from scipy.stats import ttest_ind, chisquare, normaltest\n",
    "import seaborn as sns\n"
   ]
  },
  {
   "cell_type": "markdown",
   "metadata": {},
   "source": [
    "First, we look at the initial data. However, we realized that each cape_ID question is given its own row, making the data repetetive and clunky."
   ]
  },
  {
   "cell_type": "code",
   "execution_count": 150,
   "metadata": {},
   "outputs": [
    {
     "data": {
      "text/html": [
       "<div>\n",
       "<style scoped>\n",
       "    .dataframe tbody tr th:only-of-type {\n",
       "        vertical-align: middle;\n",
       "    }\n",
       "\n",
       "    .dataframe tbody tr th {\n",
       "        vertical-align: top;\n",
       "    }\n",
       "\n",
       "    .dataframe thead th {\n",
       "        text-align: right;\n",
       "    }\n",
       "</style>\n",
       "<table border=\"1\" class=\"dataframe\">\n",
       "  <thead>\n",
       "    <tr style=\"text-align: right;\">\n",
       "      <th></th>\n",
       "      <th>LOCATION</th>\n",
       "      <th>ROOM</th>\n",
       "      <th>QUARTER_INDEX</th>\n",
       "      <th>QUARTER</th>\n",
       "      <th>QUARTER_2</th>\n",
       "      <th>COURSE_ID</th>\n",
       "      <th>COURSE_NUM</th>\n",
       "      <th>SECTION</th>\n",
       "      <th>INSTRUCTOR_LAST</th>\n",
       "      <th>INSTRUCTOR_FIRST</th>\n",
       "      <th>CAPE_ID</th>\n",
       "      <th>QUESTION</th>\n",
       "      <th>SECTION_SIZE</th>\n",
       "      <th>RESPONSE_SIZE</th>\n",
       "      <th>RATING</th>\n",
       "    </tr>\n",
       "  </thead>\n",
       "  <tbody>\n",
       "    <tr>\n",
       "      <th>0</th>\n",
       "      <td>CENTR</td>\n",
       "      <td>222</td>\n",
       "      <td>9</td>\n",
       "      <td>FA12</td>\n",
       "      <td>FA12</td>\n",
       "      <td>ANAR</td>\n",
       "      <td>153</td>\n",
       "      <td>767325</td>\n",
       "      <td>Braswell</td>\n",
       "      <td>Geoffrey E.</td>\n",
       "      <td>5</td>\n",
       "      <td>Instructor displays a proficient command of th...</td>\n",
       "      <td>26</td>\n",
       "      <td>20</td>\n",
       "      <td>4.90</td>\n",
       "    </tr>\n",
       "    <tr>\n",
       "      <th>1</th>\n",
       "      <td>CENTR</td>\n",
       "      <td>222</td>\n",
       "      <td>9</td>\n",
       "      <td>FA12</td>\n",
       "      <td>FA12</td>\n",
       "      <td>ANAR</td>\n",
       "      <td>153</td>\n",
       "      <td>767325</td>\n",
       "      <td>Braswell</td>\n",
       "      <td>Geoffrey E.</td>\n",
       "      <td>6</td>\n",
       "      <td>Instructor is well prepared for classes.</td>\n",
       "      <td>26</td>\n",
       "      <td>20</td>\n",
       "      <td>4.75</td>\n",
       "    </tr>\n",
       "    <tr>\n",
       "      <th>2</th>\n",
       "      <td>CENTR</td>\n",
       "      <td>222</td>\n",
       "      <td>9</td>\n",
       "      <td>FA12</td>\n",
       "      <td>FA12</td>\n",
       "      <td>ANAR</td>\n",
       "      <td>153</td>\n",
       "      <td>767325</td>\n",
       "      <td>Braswell</td>\n",
       "      <td>Geoffrey E.</td>\n",
       "      <td>7</td>\n",
       "      <td>Instructor's speech is clear and audible.</td>\n",
       "      <td>26</td>\n",
       "      <td>20</td>\n",
       "      <td>4.85</td>\n",
       "    </tr>\n",
       "    <tr>\n",
       "      <th>3</th>\n",
       "      <td>CENTR</td>\n",
       "      <td>222</td>\n",
       "      <td>9</td>\n",
       "      <td>FA12</td>\n",
       "      <td>FA12</td>\n",
       "      <td>ANAR</td>\n",
       "      <td>153</td>\n",
       "      <td>767325</td>\n",
       "      <td>Braswell</td>\n",
       "      <td>Geoffrey E.</td>\n",
       "      <td>8</td>\n",
       "      <td>Instructor explains the [coursetype] material ...</td>\n",
       "      <td>26</td>\n",
       "      <td>20</td>\n",
       "      <td>4.70</td>\n",
       "    </tr>\n",
       "    <tr>\n",
       "      <th>4</th>\n",
       "      <td>CENTR</td>\n",
       "      <td>222</td>\n",
       "      <td>9</td>\n",
       "      <td>FA12</td>\n",
       "      <td>FA12</td>\n",
       "      <td>ANAR</td>\n",
       "      <td>153</td>\n",
       "      <td>767325</td>\n",
       "      <td>Braswell</td>\n",
       "      <td>Geoffrey E.</td>\n",
       "      <td>9</td>\n",
       "      <td>Lectures hold your attention.</td>\n",
       "      <td>26</td>\n",
       "      <td>20</td>\n",
       "      <td>4.50</td>\n",
       "    </tr>\n",
       "    <tr>\n",
       "      <th>5</th>\n",
       "      <td>CENTR</td>\n",
       "      <td>222</td>\n",
       "      <td>9</td>\n",
       "      <td>FA12</td>\n",
       "      <td>FA12</td>\n",
       "      <td>ANAR</td>\n",
       "      <td>153</td>\n",
       "      <td>767325</td>\n",
       "      <td>Braswell</td>\n",
       "      <td>Geoffrey E.</td>\n",
       "      <td>10</td>\n",
       "      <td>Instructor’s lecture style facilitates note-ta...</td>\n",
       "      <td>26</td>\n",
       "      <td>20</td>\n",
       "      <td>4.20</td>\n",
       "    </tr>\n",
       "    <tr>\n",
       "      <th>6</th>\n",
       "      <td>CENTR</td>\n",
       "      <td>222</td>\n",
       "      <td>9</td>\n",
       "      <td>FA12</td>\n",
       "      <td>FA12</td>\n",
       "      <td>ANAR</td>\n",
       "      <td>153</td>\n",
       "      <td>767325</td>\n",
       "      <td>Braswell</td>\n",
       "      <td>Geoffrey E.</td>\n",
       "      <td>11</td>\n",
       "      <td>Instructor shows concern for students' learning.</td>\n",
       "      <td>26</td>\n",
       "      <td>20</td>\n",
       "      <td>4.45</td>\n",
       "    </tr>\n",
       "    <tr>\n",
       "      <th>7</th>\n",
       "      <td>CENTR</td>\n",
       "      <td>222</td>\n",
       "      <td>9</td>\n",
       "      <td>FA12</td>\n",
       "      <td>FA12</td>\n",
       "      <td>ANAR</td>\n",
       "      <td>153</td>\n",
       "      <td>767325</td>\n",
       "      <td>Braswell</td>\n",
       "      <td>Geoffrey E.</td>\n",
       "      <td>12</td>\n",
       "      <td>Instructor promotes appropriate questions/disc...</td>\n",
       "      <td>26</td>\n",
       "      <td>20</td>\n",
       "      <td>4.15</td>\n",
       "    </tr>\n",
       "    <tr>\n",
       "      <th>8</th>\n",
       "      <td>CENTR</td>\n",
       "      <td>222</td>\n",
       "      <td>9</td>\n",
       "      <td>FA12</td>\n",
       "      <td>FA12</td>\n",
       "      <td>ANAR</td>\n",
       "      <td>153</td>\n",
       "      <td>767325</td>\n",
       "      <td>Braswell</td>\n",
       "      <td>Geoffrey E.</td>\n",
       "      <td>13</td>\n",
       "      <td>Instructor is accessible outside of class.</td>\n",
       "      <td>26</td>\n",
       "      <td>20</td>\n",
       "      <td>4.00</td>\n",
       "    </tr>\n",
       "    <tr>\n",
       "      <th>9</th>\n",
       "      <td>CENTR</td>\n",
       "      <td>222</td>\n",
       "      <td>9</td>\n",
       "      <td>FA12</td>\n",
       "      <td>FA12</td>\n",
       "      <td>ANAR</td>\n",
       "      <td>153</td>\n",
       "      <td>767325</td>\n",
       "      <td>Braswell</td>\n",
       "      <td>Geoffrey E.</td>\n",
       "      <td>14</td>\n",
       "      <td>Instructor starts and finishes class on time.</td>\n",
       "      <td>26</td>\n",
       "      <td>20</td>\n",
       "      <td>4.55</td>\n",
       "    </tr>\n",
       "  </tbody>\n",
       "</table>\n",
       "</div>"
      ],
      "text/plain": [
       "  LOCATION ROOM  QUARTER_INDEX QUARTER QUARTER_2 COURSE_ID COURSE_NUM  \\\n",
       "0    CENTR  222              9    FA12      FA12      ANAR        153   \n",
       "1    CENTR  222              9    FA12      FA12      ANAR        153   \n",
       "2    CENTR  222              9    FA12      FA12      ANAR        153   \n",
       "3    CENTR  222              9    FA12      FA12      ANAR        153   \n",
       "4    CENTR  222              9    FA12      FA12      ANAR        153   \n",
       "5    CENTR  222              9    FA12      FA12      ANAR        153   \n",
       "6    CENTR  222              9    FA12      FA12      ANAR        153   \n",
       "7    CENTR  222              9    FA12      FA12      ANAR        153   \n",
       "8    CENTR  222              9    FA12      FA12      ANAR        153   \n",
       "9    CENTR  222              9    FA12      FA12      ANAR        153   \n",
       "\n",
       "   SECTION INSTRUCTOR_LAST            INSTRUCTOR_FIRST  CAPE_ID  \\\n",
       "0   767325        Braswell   Geoffrey E.                      5   \n",
       "1   767325        Braswell   Geoffrey E.                      6   \n",
       "2   767325        Braswell   Geoffrey E.                      7   \n",
       "3   767325        Braswell   Geoffrey E.                      8   \n",
       "4   767325        Braswell   Geoffrey E.                      9   \n",
       "5   767325        Braswell   Geoffrey E.                     10   \n",
       "6   767325        Braswell   Geoffrey E.                     11   \n",
       "7   767325        Braswell   Geoffrey E.                     12   \n",
       "8   767325        Braswell   Geoffrey E.                     13   \n",
       "9   767325        Braswell   Geoffrey E.                     14   \n",
       "\n",
       "                                            QUESTION  SECTION_SIZE  \\\n",
       "0  Instructor displays a proficient command of th...            26   \n",
       "1           Instructor is well prepared for classes.            26   \n",
       "2          Instructor's speech is clear and audible.            26   \n",
       "3  Instructor explains the [coursetype] material ...            26   \n",
       "4                      Lectures hold your attention.            26   \n",
       "5  Instructor’s lecture style facilitates note-ta...            26   \n",
       "6   Instructor shows concern for students' learning.            26   \n",
       "7  Instructor promotes appropriate questions/disc...            26   \n",
       "8         Instructor is accessible outside of class.            26   \n",
       "9      Instructor starts and finishes class on time.            26   \n",
       "\n",
       "   RESPONSE_SIZE  RATING  \n",
       "0             20    4.90  \n",
       "1             20    4.75  \n",
       "2             20    4.85  \n",
       "3             20    4.70  \n",
       "4             20    4.50  \n",
       "5             20    4.20  \n",
       "6             20    4.45  \n",
       "7             20    4.15  \n",
       "8             20    4.00  \n",
       "9             20    4.55  "
      ]
     },
     "execution_count": 150,
     "metadata": {},
     "output_type": "execute_result"
    }
   ],
   "source": [
    "df_cogs = pd.read_csv('CAPES.csv')\n",
    "df_cogs.head(10)"
   ]
  },
  {
   "cell_type": "code",
   "execution_count": 142,
   "metadata": {},
   "outputs": [],
   "source": [
    "#Parameter Lists\n",
    "#Set the variable as None to ignore it when searching\n",
    "#Change the value here and run all the cells to get an output\n",
    "LOCATION = None\n",
    "ROOM = None\n",
    "QUARTER_INDEX = None          # A number, refer to the file or dataframe\n",
    "QUARTER = None                # e.g. \"FA13\"/\"WI19\"/\"SP15\"\n",
    "COURSE_ID = \"COGS\"             # e.g. \"COGS\", \"BILD\"\n",
    "COURSE_NUM = [\"1\",\"3\",\"9\",\"11\",\"14A\",\"14B\",\"17\",\"100\"]  # Must be a list of string (double quoted or single quoted)! e.g. [\"100\", \"20A\", \"120A\"]\n",
    "SECTION = None               # Must be a string! e.g \"767325\"\n",
    "INSTRUCTOR_FIRST = None    # instructor's first name\n",
    "INSTRUCTOR_LAST = None     # instructor's last name\n",
    "LOWEST_SIZE = None            # Include only sections that have student number >= this variable\n",
    "LOWEST_RESPONSE = None        # Include only Capes Questions that have number of response >= this variable\n",
    "CAPES = [5,6,7,8,9,10,17,27,26]        # Must be a list of integer! Include only Capes question with an ID that is in the list. From 5 to 27, plus 51\n",
    "FILENAME = \"COGS_CAPES.csv\"    # name of output file"
   ]
  },
  {
   "cell_type": "code",
   "execution_count": 143,
   "metadata": {},
   "outputs": [],
   "source": [
    "# Read CSV\n",
    "dtypes = {'LOCATION':str, 'ROOM':str, 'QUARTER_INDEX':int, 'QUATER':int, 'COURSE_ID':str, 'COURSE_NUM':str, \n",
    "          'SECTION':str, 'INSTRUCTOR_LAST':str, 'INSTRUCTOR_FIRST': str, 'CAPE_ID':int, 'QUESTION':str, \n",
    "          'SECTION_SIZE':int, 'RESPONSE_SIZE':int, \"RATING\":float}\n",
    "df = pd.read_csv(\"CAPES.csv\", usecols = [\"LOCATION\", \"ROOM\", \"QUARTER_INDEX\", \"QUARTER\", \n",
    "                                         \"COURSE_ID\", \"COURSE_NUM\", \"SECTION\", \"INSTRUCTOR_LAST\", \n",
    "                                         \"INSTRUCTOR_FIRST\", \"CAPE_ID\", \"QUESTION\", \n",
    "                                         \"SECTION_SIZE\", \"RESPONSE_SIZE\", \"RATING\"],\n",
    "                 dtype = dtypes)\n",
    "\n",
    "# clean out empty spaces in cells\n",
    "df[\"INSTRUCTOR_FIRST\"] = df[\"INSTRUCTOR_FIRST\"].str.strip()\n",
    "df[\"INSTRUCTOR_LAST\"] = df[\"INSTRUCTOR_LAST\"].str.strip()\n",
    "\n",
    "def ClassExtractor(LOCATION, ROOM, QUARTER, COURSE_ID, COURSE_NUM, SECTION, INSTRUCTOR_LAST, \n",
    "                   INSTRUCTOR_FIRST, LOWEST_SIZE, LOWEST_RESPONSE, CAPES):\n",
    "    result = df\n",
    "    \n",
    "    if LOCATION is not None:\n",
    "        result = result[result[\"LOCATION\"] == LOCATION]\n",
    "    \n",
    "    if ROOM is not None:\n",
    "        reulst = result[result[\"ROOM\"] == ROOM]\n",
    "        \n",
    "    if QUARTER is not None:\n",
    "        result = result[result[\"QUATER\"] == QUARTER]\n",
    "    \n",
    "    if COURSE_ID is not None:\n",
    "        result = result[result[\"COURSE_ID\"] == COURSE_ID]\n",
    "        \n",
    "    if COURSE_NUM is not None:\n",
    "        result = result[result[\"COURSE_NUM\"].isin(COURSE_NUM)]\n",
    "        \n",
    "    if SECTION is not None:\n",
    "        result = result[result[\"SECTION\"] == SECTION]\n",
    "    \n",
    "    if INSTRUCTOR_LAST is not None:\n",
    "        result = result[result[\"INSTRUCTOR_LAST\"] == INSTRUCTOR_LAST]\n",
    "        \n",
    "    if INSTRUCTOR_FIRST is not None:\n",
    "        result = result[result[\"INSTRUCTOR_FIRST\"] == INSTRUCTOR_FIRST]\n",
    "        \n",
    "    if LOWEST_SIZE is not None:\n",
    "        result = result[result[\"SECTION_SIZE\"] >= LOWEST_SIZE]\n",
    "        \n",
    "    if LOWEST_RESPONSE is not None:\n",
    "        result = result[result[\"RESPONSE_SIZE\"] >= LOWEST_RESPONSE]\n",
    "        \n",
    "    if isinstance(CAPES, list):\n",
    "        result = result[result[\"CAPE_ID\"].isin(CAPES)]\n",
    "    \n",
    "    \n",
    "    return result\n",
    "\n",
    "def AlltimeAvg(INSTRUCTOR_FIRST, INSTRUCTOR_LAST, CAPES):\n",
    "    newdf = (df.loc[df[\"INSTRUCTOR_LAST\"] == INSTRUCTOR_LAST]).loc[df[\"INSTRUCTOR_FIRST\"] == INSTRUCTOR_FIRST]\n",
    "    dic = {}\n",
    "\n",
    "    for i in CAPES:\n",
    "        temp = newdf.loc[newdf[\"CAPE_ID\"] == i]\n",
    "        dic[i] = temp[\"RATING\"].mean()\n",
    "\n",
    "    print(\"All Time Average Rating for\", INSTRUCTOR_LAST + \",\", INSTRUCTOR_FIRST, \"in (CAPE_ID, AVG)\")\n",
    "    for key, value in dic.items():\n",
    "        print(key, value)\n"
   ]
  },
  {
   "cell_type": "markdown",
   "metadata": {},
   "source": [
    "After extracting the data we require, we now must convert the dataset into a nicely formatted dataframe with with each section having its own average ratings. The initial dataset contains about 21 rows per CAPES submission, but after some filtration, we leveled it down to 9 questions that we are interested in through the parameters list. Still, this means 9 rows for each Capes submission. With the following functions, each rating is converted into a column. Furthermore, each CAPES_ID question is renamed in reference to what the question is asking."
   ]
  },
  {
   "cell_type": "code",
   "execution_count": 144,
   "metadata": {},
   "outputs": [],
   "source": [
    "# This cell essentially transposes the ratings into column values\n",
    "# to get rid of duplicate values\n",
    "aggregations = {\n",
    "    'RATING':'mean',\n",
    "    'SECTION_SIZE':'sum',\n",
    "    'RESPONSE_SIZE':'sum'\n",
    "}\n",
    "def transpose(output):\n",
    "    hall = output\n",
    "    data = hall.groupby(['CAPE_ID','SECTION']).agg(aggregations).reset_index()\n",
    "\n",
    "    know_rating = pd.Series(data[data.CAPE_ID == 5].RATING)\n",
    "    prep_rating = pd.Series(data[data.CAPE_ID == 6].RATING)\n",
    "    audible_rating = pd.Series(data[data.CAPE_ID == 7].RATING)\n",
    "    expl_rating = pd.Series(data[data.CAPE_ID == 8].RATING)\n",
    "    attent_rating = pd.Series(data[data.CAPE_ID == 9].RATING)\n",
    "    note_rating = pd.Series(data[data.CAPE_ID == 10].RATING)\n",
    "    stimu_rating = pd.Series(data[data.CAPE_ID == 17].RATING)\n",
    "    rec_course_rating = pd.Series(data[data.CAPE_ID == 26].RATING)\n",
    "    rec_professor_rating = pd.Series(data[data.CAPE_ID == 27].RATING)\n",
    "    df = hall\n",
    "    df = df.drop_duplicates(subset=['SECTION'], keep='first')\n",
    "\n",
    "    df.loc[:,'know_rating'] = list(know_rating.values)\n",
    "    df.loc[:,'prep_rating'] = prep_rating.values\n",
    "    df.loc[:,'audible_rating'] = audible_rating.values\n",
    "    df.loc[:,'expl_rating'] = expl_rating.values\n",
    "    df.loc[:,'attent_rating'] = attent_rating.values\n",
    "    df.loc[:,'note_rating'] = note_rating.values\n",
    "    df.loc[:,'stimu_rating'] = stimu_rating.values\n",
    "    df.loc[:,'rec_course_rating'] = rec_course_rating.values\n",
    "    df.loc[:,'rec_professor_rating'] = rec_professor_rating.values\n",
    "    df = df.drop(columns=['QUESTION','CAPE_ID'])\n",
    "\n",
    "    \n",
    "    return df"
   ]
  },
  {
   "cell_type": "code",
   "execution_count": 145,
   "metadata": {},
   "outputs": [],
   "source": [
    "# Calling Function and Write Data\n",
    "original = ClassExtractor(LOCATION, ROOM, QUARTER, COURSE_ID, COURSE_NUM, SECTION, INSTRUCTOR_LAST, \n",
    "                   INSTRUCTOR_FIRST, LOWEST_SIZE, LOWEST_RESPONSE, CAPES)\n",
    "output = transpose(original)\n",
    "filename = \"CAPE_\" + (INSTRUCTOR_FIRST or \"\" or COURSE_ID) + \" \" + (INSTRUCTOR_LAST or \"\") + \".csv\"\n",
    "\n",
    "if not output.empty:\n",
    "    output.to_csv(FILENAME or (\"CAPE_\" + (INSTRUCTOR_FIRST or \"\" or COURSE_ID) + \" \" + (INSTRUCTOR_LAST or \"\") + \".csv\"))\n"
   ]
  },
  {
   "cell_type": "code",
   "execution_count": 152,
   "metadata": {},
   "outputs": [
    {
     "data": {
      "text/html": [
       "<div>\n",
       "<style scoped>\n",
       "    .dataframe tbody tr th:only-of-type {\n",
       "        vertical-align: middle;\n",
       "    }\n",
       "\n",
       "    .dataframe tbody tr th {\n",
       "        vertical-align: top;\n",
       "    }\n",
       "\n",
       "    .dataframe thead th {\n",
       "        text-align: right;\n",
       "    }\n",
       "</style>\n",
       "<table border=\"1\" class=\"dataframe\">\n",
       "  <thead>\n",
       "    <tr style=\"text-align: right;\">\n",
       "      <th></th>\n",
       "      <th>Unnamed: 0</th>\n",
       "      <th>LOCATION</th>\n",
       "      <th>ROOM</th>\n",
       "      <th>QUARTER_INDEX</th>\n",
       "      <th>QUARTER</th>\n",
       "      <th>COURSE_ID</th>\n",
       "      <th>COURSE_NUM</th>\n",
       "      <th>SECTION</th>\n",
       "      <th>INSTRUCTOR_LAST</th>\n",
       "      <th>INSTRUCTOR_FIRST</th>\n",
       "      <th>...</th>\n",
       "      <th>RATING</th>\n",
       "      <th>know_rating</th>\n",
       "      <th>prep_rating</th>\n",
       "      <th>audible_rating</th>\n",
       "      <th>expl_rating</th>\n",
       "      <th>attent_rating</th>\n",
       "      <th>note_rating</th>\n",
       "      <th>stimu_rating</th>\n",
       "      <th>rec_course_rating</th>\n",
       "      <th>rec_professor_rating</th>\n",
       "    </tr>\n",
       "  </thead>\n",
       "  <tbody>\n",
       "    <tr>\n",
       "      <th>0</th>\n",
       "      <td>6005</td>\n",
       "      <td>PETER</td>\n",
       "      <td>110</td>\n",
       "      <td>9</td>\n",
       "      <td>FA12</td>\n",
       "      <td>COGS</td>\n",
       "      <td>1</td>\n",
       "      <td>751912</td>\n",
       "      <td>Creel</td>\n",
       "      <td>Sarah</td>\n",
       "      <td>...</td>\n",
       "      <td>4.263158</td>\n",
       "      <td>4.391111</td>\n",
       "      <td>4.277778</td>\n",
       "      <td>4.496296</td>\n",
       "      <td>3.889630</td>\n",
       "      <td>3.715556</td>\n",
       "      <td>3.719259</td>\n",
       "      <td>3.838519</td>\n",
       "      <td>0.829630</td>\n",
       "      <td>0.869630</td>\n",
       "    </tr>\n",
       "    <tr>\n",
       "      <th>1</th>\n",
       "      <td>6530</td>\n",
       "      <td>CENTR</td>\n",
       "      <td>115</td>\n",
       "      <td>9</td>\n",
       "      <td>FA12</td>\n",
       "      <td>COGS</td>\n",
       "      <td>11</td>\n",
       "      <td>751622</td>\n",
       "      <td>Boyle</td>\n",
       "      <td>Mary E. T.</td>\n",
       "      <td>...</td>\n",
       "      <td>4.741935</td>\n",
       "      <td>4.714574</td>\n",
       "      <td>4.719534</td>\n",
       "      <td>4.571525</td>\n",
       "      <td>4.392761</td>\n",
       "      <td>4.282002</td>\n",
       "      <td>3.491519</td>\n",
       "      <td>4.624776</td>\n",
       "      <td>0.921627</td>\n",
       "      <td>0.937500</td>\n",
       "    </tr>\n",
       "    <tr>\n",
       "      <th>2</th>\n",
       "      <td>6684</td>\n",
       "      <td>SOLIS</td>\n",
       "      <td>104</td>\n",
       "      <td>9</td>\n",
       "      <td>FA12</td>\n",
       "      <td>COGS</td>\n",
       "      <td>17</td>\n",
       "      <td>751631</td>\n",
       "      <td>Johnson</td>\n",
       "      <td>Christine M.</td>\n",
       "      <td>...</td>\n",
       "      <td>4.682927</td>\n",
       "      <td>4.647019</td>\n",
       "      <td>4.542683</td>\n",
       "      <td>4.490515</td>\n",
       "      <td>4.466125</td>\n",
       "      <td>3.803523</td>\n",
       "      <td>3.907353</td>\n",
       "      <td>4.504065</td>\n",
       "      <td>0.923442</td>\n",
       "      <td>0.920054</td>\n",
       "    </tr>\n",
       "    <tr>\n",
       "      <th>3</th>\n",
       "      <td>6747</td>\n",
       "      <td>CENTR</td>\n",
       "      <td>115</td>\n",
       "      <td>9</td>\n",
       "      <td>FA12</td>\n",
       "      <td>COGS</td>\n",
       "      <td>3</td>\n",
       "      <td>751615</td>\n",
       "      <td>Boyle</td>\n",
       "      <td>Mary E. T.</td>\n",
       "      <td>...</td>\n",
       "      <td>4.333333</td>\n",
       "      <td>4.151964</td>\n",
       "      <td>4.143793</td>\n",
       "      <td>4.293289</td>\n",
       "      <td>4.156604</td>\n",
       "      <td>3.785060</td>\n",
       "      <td>3.964009</td>\n",
       "      <td>4.294407</td>\n",
       "      <td>0.892550</td>\n",
       "      <td>0.943732</td>\n",
       "    </tr>\n",
       "    <tr>\n",
       "      <th>4</th>\n",
       "      <td>40567</td>\n",
       "      <td>PCYNH</td>\n",
       "      <td>121</td>\n",
       "      <td>11</td>\n",
       "      <td>FA13</td>\n",
       "      <td>COGS</td>\n",
       "      <td>1</td>\n",
       "      <td>783453</td>\n",
       "      <td>Boyle</td>\n",
       "      <td>Mary E. T.</td>\n",
       "      <td>...</td>\n",
       "      <td>4.250000</td>\n",
       "      <td>3.956792</td>\n",
       "      <td>3.952378</td>\n",
       "      <td>3.976577</td>\n",
       "      <td>3.720754</td>\n",
       "      <td>3.494954</td>\n",
       "      <td>3.653218</td>\n",
       "      <td>4.007390</td>\n",
       "      <td>0.835799</td>\n",
       "      <td>0.884138</td>\n",
       "    </tr>\n",
       "  </tbody>\n",
       "</table>\n",
       "<p>5 rows × 22 columns</p>\n",
       "</div>"
      ],
      "text/plain": [
       "   Unnamed: 0 LOCATION ROOM  QUARTER_INDEX QUARTER COURSE_ID COURSE_NUM  \\\n",
       "0        6005    PETER  110              9    FA12      COGS          1   \n",
       "1        6530    CENTR  115              9    FA12      COGS         11   \n",
       "2        6684    SOLIS  104              9    FA12      COGS         17   \n",
       "3        6747    CENTR  115              9    FA12      COGS          3   \n",
       "4       40567    PCYNH  121             11    FA13      COGS          1   \n",
       "\n",
       "   SECTION INSTRUCTOR_LAST INSTRUCTOR_FIRST  ...    RATING  know_rating  \\\n",
       "0   751912           Creel            Sarah  ...  4.263158     4.391111   \n",
       "1   751622           Boyle       Mary E. T.  ...  4.741935     4.714574   \n",
       "2   751631         Johnson     Christine M.  ...  4.682927     4.647019   \n",
       "3   751615           Boyle       Mary E. T.  ...  4.333333     4.151964   \n",
       "4   783453           Boyle       Mary E. T.  ...  4.250000     3.956792   \n",
       "\n",
       "   prep_rating  audible_rating  expl_rating  attent_rating  note_rating  \\\n",
       "0     4.277778        4.496296     3.889630       3.715556     3.719259   \n",
       "1     4.719534        4.571525     4.392761       4.282002     3.491519   \n",
       "2     4.542683        4.490515     4.466125       3.803523     3.907353   \n",
       "3     4.143793        4.293289     4.156604       3.785060     3.964009   \n",
       "4     3.952378        3.976577     3.720754       3.494954     3.653218   \n",
       "\n",
       "   stimu_rating  rec_course_rating  rec_professor_rating  \n",
       "0      3.838519           0.829630              0.869630  \n",
       "1      4.624776           0.921627              0.937500  \n",
       "2      4.504065           0.923442              0.920054  \n",
       "3      4.294407           0.892550              0.943732  \n",
       "4      4.007390           0.835799              0.884138  \n",
       "\n",
       "[5 rows x 22 columns]"
      ]
     },
     "execution_count": 152,
     "metadata": {},
     "output_type": "execute_result"
    }
   ],
   "source": [
    "df_cogs = pd.read_csv(\"COGS_CAPES.csv\")\n",
    "df_cogs.head(5)"
   ]
  },
  {
   "cell_type": "markdown",
   "metadata": {},
   "source": [
    "Perfect! Now we have the dataset in order, with each capes submission on its own row. Furthermore ratings values are set, but still need more cleaning. For the cleaning, we will drop NA values, and the unnamed column. Furthermore, we are setting the rating column to be the average of all the other ratings. "
   ]
  },
  {
   "cell_type": "code",
   "execution_count": 153,
   "metadata": {},
   "outputs": [],
   "source": [
    "#Setting the dataframe, and cleaning it up\n",
    "df_cogs = df_cogs.dropna()\n",
    "df_cogs = df_cogs.drop(columns='Unnamed: 0')\n",
    "df_cogs.RATING = df_cogs[['know_rating','prep_rating','audible_rating',\n",
    "                          'expl_rating','attent_rating','note_rating',\n",
    "                          'stimu_rating']].mean(axis=1)"
   ]
  },
  {
   "cell_type": "code",
   "execution_count": null,
   "metadata": {},
   "outputs": [],
   "source": []
  },
  {
   "cell_type": "markdown",
   "metadata": {},
   "source": [
    "# Data Analysis & Visualization"
   ]
  },
  {
   "cell_type": "markdown",
   "metadata": {},
   "source": [
    "We start out by first looking at the data and what it has to offer\n",
    "\n",
    "First, we start by looking at the classrooms involved in the dataset. We see that there are a lot of entries for CSB, PCYNH, CENTR, and very little for CICC and Sequo. Meaning, that data may be skewed for those locations."
   ]
  },
  {
   "cell_type": "code",
   "execution_count": 154,
   "metadata": {},
   "outputs": [
    {
     "data": {
      "image/png": "[encoded data removed]",
      "text/plain": [
       "<Figure size 432x288 with 1 Axes>"
      ]
     },
     "metadata": {},
     "output_type": "display_data"
    }
   ],
   "source": [
    "# Counts for each classroom\n",
    "df_cogs['LOCATION'].value_counts().plot(kind='barh')\n",
    "\n",
    "f1 = plt.gcf()"
   ]
  },
  {
   "cell_type": "markdown",
   "metadata": {},
   "source": [
    "Now that we know which locations are most used in the cog sci department for the chosen classes, we can move on to see the correlations of the variables in comparison to each other.\n",
    "From the heatmap below, we can see that the correlations are reasonable. For example, recommendation of professor rating is most positvely correlated with the explanation rating. Preparation rating is most correlated with explanation rating too, and knowledge rating. Audible rating isn't extremely correlated with other ratings, suggesting it may be primarly effected by the classroom itself."
   ]
  },
  {
   "cell_type": "code",
   "execution_count": 136,
   "metadata": {},
   "outputs": [
    {
     "data": {
      "image/png": "[encoded data removed]",
      "text/plain": [
       "<Figure size 432x288 with 2 Axes>"
      ]
     },
     "metadata": {},
     "output_type": "display_data"
    }
   ],
   "source": [
    "## YOUR CODE HERE\n",
    "sns.set(style=\"ticks\")\n",
    "corr = df_cogs.corr()\n",
    "ax = sns.heatmap(\n",
    "    corr, \n",
    "    vmin=-1, vmax=1, center=0,\n",
    "    cmap=sns.diverging_palette(20, 220, n=200),\n",
    "    square=True\n",
    ")"
   ]
  },
  {
   "cell_type": "markdown",
   "metadata": {},
   "source": [
    "To continue our exploration of the ratings, we want to see if there is a link between location and ratings.  We setup a for loop to calculate the all the average ratings for each location, and save the entries in their respective variables."
   ]
  },
  {
   "cell_type": "code",
   "execution_count": 155,
   "metadata": {},
   "outputs": [],
   "source": [
    "classes = df_cogs.LOCATION.unique()\n",
    "average_ratings = np.zeros(len(classes))\n",
    "note_ratings = np.zeros(len(classes))\n",
    "prep_ratings = np.zeros(len(classes))\n",
    "audible_ratings = np.zeros(len(classes))\n",
    "expl_ratings = np.zeros(len(classes))\n",
    "rec_professor_ratings = np.zeros(len(classes))\n",
    "rec_course_ratings = np.zeros(len(classes))\n",
    "stimu_ratings = np.zeros(len(classes))\n",
    "note_ratings = np.zeros(len(classes))\n",
    "for i in range(len(classes)):\n",
    "    average_ratings[i] = df_cogs[df_cogs.LOCATION == classes[i]].RATING.mean()\n",
    "    note_ratings[i] = df_cogs[df_cogs.LOCATION == classes[i]].note_rating.mean()\n",
    "    prep_ratings[i] = df_cogs[df_cogs.LOCATION == classes[i]].prep_rating.mean()\n",
    "    audible_ratings[i] = df_cogs[df_cogs.LOCATION == classes[i]].audible_rating.mean()\n",
    "    expl_ratings[i] = df_cogs[df_cogs.LOCATION == classes[i]].expl_rating.mean()\n",
    "    rec_professor_ratings[i] = df_cogs[df_cogs.LOCATION == classes[i]].rec_professor_rating.mean()\n",
    "    rec_course_ratings[i] = df_cogs[df_cogs.LOCATION == classes[i]].rec_course_rating.mean()\n",
    "    stimu_ratings[i] = df_cogs[df_cogs.LOCATION == classes[i]].stimu_rating.mean()\n",
    "    if np.isnan(average_ratings[i]) :\n",
    "        average_ratings = average_ratings[:i]\n",
    "        note_ratings = note_ratings[:i]\n",
    "        prep_ratings = prep_ratings[:i]\n",
    "        audible_ratings = audible_ratings[:i]\n",
    "        expl_ratings = expl_ratings[:i]\n",
    "        rec_professor_ratings = rec_professor_ratings[:i]\n",
    "        rec_course_ratings = rec_course_rating[:i]\n",
    "        stimu_ratings = stimu_rating[:i]\n",
    "        classes[i]"
   ]
  },
  {
   "cell_type": "code",
   "execution_count": 156,
   "metadata": {},
   "outputs": [],
   "source": [
    "COLOR_MAP = {0 : '#461969ff',\n",
    "            1 : '#45337dff',\n",
    "            2 : '#3c4f8aff',\n",
    "            3 : '#33638dff',\n",
    "            4 : '#29788eff',\n",
    "            5 : '#25a186ff',\n",
    "            6 : '#35b479ff',\n",
    "            7 : '#5cc863ff',\n",
    "            8 : '#c3df2eff',\n",
    "            9 : '#fde725ff',\n",
    "            10 : '#45B39D',\n",
    "            11 : '#9B59B6',\n",
    "            12 : '#A9DFBF',\n",
    "            13 : '#D4AC0D'\n",
    "           }"
   ]
  },
  {
   "cell_type": "code",
   "execution_count": 157,
   "metadata": {},
   "outputs": [
    {
     "data": {
      "image/png": "[encoded data removed]",
      "text/plain": [
       "<Figure size 648x648 with 2 Axes>"
      ]
     },
     "metadata": {},
     "output_type": "display_data"
    }
   ],
   "source": [
    "color1 = [COLOR_MAP[l] for l in range(len(classes))]\n",
    "\n",
    "fig, ax = plt.subplots(nrows=2,ncols=1,figsize=(9,9))\n",
    "fig.subplots_adjust(hspace = 0.23, wspace=0.70)\n",
    "# Average Total Rating of each Location\n",
    "ax[0].barh(classes, average_ratings, alpha=0.5, color=color1)\n",
    "ax[0].set_xlabel('Total Rating')\n",
    "ax[0].set_title('Average of Total Rating',fontweight='bold')\n",
    "# Average Professor Rating of each Location\n",
    "ax[1].barh(classes, rec_professor_ratings, alpha=0.5, color=color1)\n",
    "ax[1].set_xlabel('Professor Rating')\n",
    "ax[1].set_title('Average Professor Rating',fontweight='bold')\n",
    "\n",
    "plt.show()"
   ]
  },
  {
   "cell_type": "code",
   "execution_count": 158,
   "metadata": {},
   "outputs": [
    {
     "data": {
      "image/png": "[encoded data removed]",
      "text/plain": [
       "<Figure size 648x648 with 2 Axes>"
      ]
     },
     "metadata": {},
     "output_type": "display_data"
    }
   ],
   "source": [
    "fig, ax = plt.subplots(nrows=2,ncols=1,figsize=(9,9))\n",
    "fig.subplots_adjust(hspace = 0.3, wspace=0.70)\n",
    "# Average Stimulation Rating\n",
    "ax[0].barh(classes, stimu_ratings, alpha=0.5, color=color1)\n",
    "ax[0].set_xlabel('Stimulation Rating')\n",
    "ax[0].set_title('Average Stimulation Rating',fontweight='bold')\n",
    "# Average Note Ratings of each Location\n",
    "ax[1].barh(classes, note_ratings, alpha=0.5, color=color1)\n",
    "ax[1].set_xlabel('Note Rating')\n",
    "ax[1].set_title('Average Note-Taking Rating',fontweight='bold')\n",
    "plt.show()"
   ]
  },
  {
   "cell_type": "markdown",
   "metadata": {},
   "source": [
    "From the visualizations above, we can see the 4 different average ratings for each location. Sequo matches the highest in almost all 4 rankings, however, there are very little entries which could skew the data. In locations, with more entries, such as CSB, Peter, Center, and PCYNH visualizations like the above allow us to see what most of these locations lack in. \n",
    "All around, the note-taking rating is low for all the locations, with exceptions to Center hall. CSB fairs the highest note-taking rating, but Peterson has a higher average total rating. On the other hand, Peterson has a very low note rating, could be due to the limited projectors and age of the rooms. "
   ]
  },
  {
   "cell_type": "markdown",
   "metadata": {},
   "source": [
    "# Ethics & Privacy"
   ]
  },
  {
   "cell_type": "markdown",
   "metadata": {},
   "source": [
    "*Fill in your ethics & privacy discussion here*"
   ]
  },
  {
   "cell_type": "markdown",
   "metadata": {},
   "source": [
    "# Conclusion & Discussion"
   ]
  },
  {
   "cell_type": "markdown",
   "metadata": {},
   "source": [
    "*Fill in your discussion information here*"
   ]
  }
 ],
 "metadata": {
  "kernelspec": {
   "display_name": "Python 3",
   "language": "python",
   "name": "python3"
  },
  "language_info": {
   "codemirror_mode": {
    "name": "ipython",
    "version": 3
   },
   "file_extension": ".py",
   "mimetype": "text/x-python",
   "name": "python",
   "nbconvert_exporter": "python",
   "pygments_lexer": "ipython3",
   "version": "3.7.3"
  }
 },
 "nbformat": 4,
 "nbformat_minor": 2
}
