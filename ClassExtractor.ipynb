{
 "cells": [
  {
   "cell_type": "code",
   "execution_count": 252,
   "metadata": {},
   "outputs": [],
   "source": [
    "# Setup\n",
    "import pandas as pd\n",
    "import numpy as np\n",
    "\n",
    "#Parameter Lists\n",
    "#Set the variable as None to ignore it when searching\n",
    "#Change the value here and run all the cells to get an output\n",
    "LOCATION = None\n",
    "ROOM = None\n",
    "QUARTER_INDEX = None          # A number, refer to the file or dataframe\n",
    "QUARTER = None                # e.g. \"FA13\"/\"WI19\"/\"SP15\"\n",
    "COURSE_ID = \"CSE\"             # e.g. \"COGS\", \"BILD\"\n",
    "COURSE_NUM = [\"8A\", \"8B\"]  # Must be a list of string (double quoted or single quoted)! e.g. [\"100\", \"20A\", \"120A\"]\n",
    "SECTION = None               # Must be a string! e.g \"767325\"\n",
    "INSTRUCTOR_FIRST = \"Yingjun\"    # instructor's first name\n",
    "INSTRUCTOR_LAST = \"Cao\"     # instructor's last name\n",
    "LOWEST_SIZE = None            # Include only sections that have student number >= this variable\n",
    "LOWEST_RESPONSE = None        # Include only Capes Questions that have number of response >= this variable\n",
    "CAPES = [7, 9, 14, 15]        # Must be a list of integer! Include only Capes question with an ID that is in the list. From 5 to 27, plus 51\n",
    "FILENAME = \"CAPE_Yingjun Cao.csv\"    # name of output file"
   ]
  },
  {
   "cell_type": "markdown",
   "metadata": {},
   "source": [
    "df = pd.read_csv(\"CAPES.csv\")\n",
    "print(len(df))"
   ]
  },
  {
   "cell_type": "code",
   "execution_count": 253,
   "metadata": {},
   "outputs": [],
   "source": [
    "# Read CSV\n",
    "dtypes = {'LOCATION':str, 'ROOM':str, 'QUARTER_INDEX':int, 'QUATER':int, 'COURSE_ID':str, 'COURSE_NUM':str, \n",
    "          'SECTION':str, 'INSTRUCTOR_LAST':str, 'INSTRUCTOR_FIRST': str, 'CAPE_ID':int, 'QUESTION':str, \n",
    "          'SECTION_SIZE':int, 'RESPONSE_SIZE':int, \"RATING\":float}\n",
    "df = pd.read_csv(\"CAPES.csv\", usecols = [\"LOCATION\", \"ROOM\", \"QUARTER_INDEX\", \"QUARTER\", \n",
    "                                         \"COURSE_ID\", \"COURSE_NUM\", \"SECTION\", \"INSTRUCTOR_LAST\", \n",
    "                                         \"INSTRUCTOR_FIRST\", \"CAPE_ID\", \"QUESTION\", \n",
    "                                         \"SECTION_SIZE\", \"RESPONSE_SIZE\", \"RATING\"],\n",
    "                 dtype = dtypes)\n",
    "\n",
    "# clean out empty spaces in cells\n",
    "df[\"INSTRUCTOR_FIRST\"] = df[\"INSTRUCTOR_FIRST\"].str.strip()\n",
    "df[\"INSTRUCTOR_LAST\"] = df[\"INSTRUCTOR_LAST\"].str.strip()\n",
    "\n",
    "def ClassExtractor(LOCATION, ROOM, QUARTER, COURSE_ID, COURSE_NUM, SECTION, INSTRUCTOR_LAST, \n",
    "                   INSTRUCTOR_FIRST, LOWEST_SIZE, LOWEST_RESPONSE, CAPES):\n",
    "    result = df\n",
    "    \n",
    "    if LOCATION is not None:\n",
    "        result = result[result[\"LOCATION\"] == LOCATION]\n",
    "    \n",
    "    if ROOM is not None:\n",
    "        reulst = result[result[\"ROOM\"] == ROOM]\n",
    "        \n",
    "    if QUARTER is not None:\n",
    "        result = result[result[\"QUATER\"] == QUARTER]\n",
    "    \n",
    "    if COURSE_ID is not None:\n",
    "        result = result[result[\"COURSE_ID\"] == COURSE_ID]\n",
    "        \n",
    "    if COURSE_NUM is not None:\n",
    "        result = result[result[\"COURSE_NUM\"].isin(COURSE_NUM)]\n",
    "        \n",
    "    if SECTION is not None:\n",
    "        result = result[result[\"SECTION\"] == SECTION]\n",
    "    \n",
    "    if INSTRUCTOR_LAST is not None:\n",
    "        result = result[result[\"INSTRUCTOR_LAST\"] == INSTRUCTOR_LAST]\n",
    "        \n",
    "    if INSTRUCTOR_FIRST is not None:\n",
    "        result = result[result[\"INSTRUCTOR_FIRST\"] == INSTRUCTOR_FIRST]\n",
    "        \n",
    "    if LOWEST_SIZE is not None:\n",
    "        result = result[result[\"SECTION_SIZE\"] >= LOWEST_SIZE]\n",
    "        \n",
    "    if LOWEST_RESPONSE is not None:\n",
    "        result = result[result[\"RESPONSE_SIZE\"] >= LOWEST_RESPONSE]\n",
    "        \n",
    "    if isinstance(CAPES, list):\n",
    "        result = result[result[\"CAPE_ID\"].isin(CAPES)]\n",
    "        \n",
    "    return result\n",
    "\n",
    "def AlltimeAvg(INSTRUCTOR_FIRST, INSTRUCTOR_LAST, CAPES):\n",
    "    newdf = (df.loc[df[\"INSTRUCTOR_LAST\"] == INSTRUCTOR_LAST]).loc[df[\"INSTRUCTOR_FIRST\"] == INSTRUCTOR_FIRST]\n",
    "    dic = {}\n",
    "\n",
    "    for i in CAPES:\n",
    "        temp = newdf.loc[newdf[\"CAPE_ID\"] == i]\n",
    "        dic[i] = temp[\"RATING\"].mean()\n",
    "\n",
    "    print(\"All Time Average Rating for\", INSTRUCTOR_LAST + \",\", INSTRUCTOR_FIRST, \"in (CAPE_ID, AVG)\")\n",
    "    for key, value in dic.items():\n",
    "        print(key, value)"
   ]
  },
  {
   "cell_type": "code",
   "execution_count": 254,
   "metadata": {},
   "outputs": [
    {
     "name": "stdout",
     "output_type": "stream",
     "text": [
      "All Time Average Rating for Cao, Yingjun in (CAPE_ID, AVG)\n",
      "7 4.27744523428\n",
      "9 4.07907045567\n",
      "14 4.56017122267\n",
      "15 4.59529137097\n"
     ]
    }
   ],
   "source": [
    "# Calling Function and Write Data\n",
    "output = ClassExtractor(LOCATION, ROOM, QUARTER, COURSE_ID, COURSE_NUM, SECTION, INSTRUCTOR_LAST, \n",
    "                   INSTRUCTOR_FIRST, LOWEST_SIZE, LOWEST_RESPONSE, CAPES)\n",
    "filename = \"CAPE_\" + (INSTRUCTOR_FIRST or \"\") + \" \" + (INSTRUCTOR_LAST or \"\") + \".csv\"\n",
    "\n",
    "if not output.empty:\n",
    "    output.to_csv(FILENAME or (\"CAPE_\" + (INSTRUCTOR_FIRST or \"\") + \" \" + (INSTRUCTOR_LAST or \"\") + \".csv\"))\n",
    "\n",
    "if None in (INSTRUCTOR_FIRST, INSTRUCTOR_LAST):\n",
    "    INSTRUCTOR_FIRST = output[\"INSTRUCTOR_FIRST\"].iloc[0]\n",
    "    INSTRUCTOR_LAST = output[\"INSTRUCTOR_LAST\"].iloc[0]\n",
    "\n",
    "if CAPES is None:\n",
    "    CAPES = list(range(5, 28))\n",
    "    CAPES.append(51)\n",
    "    \n",
    "AlltimeAvg(INSTRUCTOR_FIRST, INSTRUCTOR_LAST, CAPES)\n",
    "# An summary of overall capes rating of this professor will be display below after running this cell"
   ]
  },
  {
   "cell_type": "code",
   "execution_count": null,
   "metadata": {},
   "outputs": [],
   "source": []
  }
 ],
 "metadata": {
  "kernelspec": {
   "display_name": "Python 3",
   "language": "python",
   "name": "python3"
  },
  "language_info": {
   "codemirror_mode": {
    "name": "ipython",
    "version": 3
   },
   "file_extension": ".py",
   "mimetype": "text/x-python",
   "name": "python",
   "nbconvert_exporter": "python",
   "pygments_lexer": "ipython3",
   "version": "3.6.7"
  }
 },
 "nbformat": 4,
 "nbformat_minor": 2
}
